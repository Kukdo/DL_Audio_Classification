{
 "cells": [
  {
   "cell_type": "markdown",
   "id": "3c044e98-578f-406c-8216-d864cf80cf63",
   "metadata": {},
   "source": [
    "## 数据标注"
   ]
  },
  {
   "cell_type": "code",
   "execution_count": 1,
   "id": "87242a76-254b-437b-9491-7d8f45951ffa",
   "metadata": {},
   "outputs": [],
   "source": [
    "# -*- coding: utf-8 -*-\n",
    "import os           \n",
    "import pandas as pd   #和csv有关的最好的库就是panda了\n",
    "\n",
    "def get_filename(file_dir):\n",
    "    filename = None\n",
    "    for root, dirs, files in os.walk(file_dir):\n",
    "        # print(root) #当前目录路径\n",
    "        # print(dirs) #当前路径下所有子目录\n",
    "        # print(files) #当前路径下所有非目录子文件\n",
    "        filename = files\n",
    "    return filename\n",
    "\n",
    "def main():\n",
    "\t#这里指定一个目标文件夹，存放所有文件\n",
    "    file_path = r'E:/Project/Data/ENGINE-LABEL-AUGMENTATION/audio'  \n",
    "    #这里在当前路径下生成一个filename.csv文件用来记录所有文件名\n",
    "    creat_csvfile_path = r'E:/Project/Data/ENGINE-LABEL-AUGMENTATION/meta/engine.csv'\n",
    "    \n",
    "    FileName = get_filename(file_path)\n",
    "    # print(FileName)\n",
    "    for filename in FileName:\n",
    "        content = [[filename]]\n",
    "        list_name = ['文件名']\n",
    "        tab_data = pd.DataFrame(data=content, columns=list_name)\n",
    "        \n",
    "        #这一步是为了不覆盖表头\n",
    "        if not os.path.exists(creat_csvfile_path):\n",
    "            tab_data.to_csv(creat_csvfile_path, mode='a+', encoding='utf-8-sig', index=False)\n",
    "        else:\n",
    "            tab_data.to_csv(creat_csvfile_path, mode='a+', encoding='utf-8-sig', index=False,\n",
    "                            header=False)\n",
    "\n",
    "if __name__ == '__main__':\n",
    "    main()"
   ]
  },
  {
   "cell_type": "code",
   "execution_count": null,
   "id": "a96764ca-f9cd-4609-8087-e973adb3f9ea",
   "metadata": {},
   "outputs": [],
   "source": []
  }
 ],
 "metadata": {
  "kernelspec": {
   "display_name": "Python 3 (ipykernel)",
   "language": "python",
   "name": "python3"
  },
  "language_info": {
   "codemirror_mode": {
    "name": "ipython",
    "version": 3
   },
   "file_extension": ".py",
   "mimetype": "text/x-python",
   "name": "python",
   "nbconvert_exporter": "python",
   "pygments_lexer": "ipython3",
   "version": "3.10.4"
  }
 },
 "nbformat": 4,
 "nbformat_minor": 5
}
