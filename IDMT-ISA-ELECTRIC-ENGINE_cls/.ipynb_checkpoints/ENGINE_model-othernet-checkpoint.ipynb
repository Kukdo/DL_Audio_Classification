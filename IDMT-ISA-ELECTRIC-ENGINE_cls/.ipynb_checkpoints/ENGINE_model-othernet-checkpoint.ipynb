{
 "cells": [
  {
   "cell_type": "markdown",
   "id": "6a5703b8-5eb7-440c-bb15-4da178a0c1d3",
   "metadata": {},
   "source": [
    "## 最终版本"
   ]
  },
  {
   "cell_type": "markdown",
   "id": "651bdde8-c252-4550-9720-27553b5b14d9",
   "metadata": {},
   "source": [
    "## 引入库"
   ]
  },
  {
   "cell_type": "code",
   "execution_count": 1,
   "id": "aa7e8de4-cb29-4552-8f4d-51f14cb6d1f2",
   "metadata": {},
   "outputs": [],
   "source": [
    "%matplotlib inline\n",
    "from keras.applications.vgg16 import VGG16, preprocess_input\n",
    "from keras.preprocessing import image\n",
    "from keras.models import Sequential, Model\n",
    "from keras.layers import Dense, Dropout, Flatten, Input\n",
    "from keras.applications.vgg16 import preprocess_input\n",
    "# from keras.utils import multi_gpu_model\n",
    "from tensorflow.python.keras.utils.multi_gpu_utils import multi_gpu_model\n",
    "import numpy as np\n",
    "import json\n",
    "from keras.models import load_model\n",
    "# from tensorflow.keras.applications.resnet50 import ResNet50 #超显存了\n",
    "# from keras.applications.mobilenet import MobileNet #网络更深了"
   ]
  },
  {
   "cell_type": "markdown",
   "id": "b53e7595-5923-4448-98bf-92d5cdbe05ee",
   "metadata": {},
   "source": [
    "## 设置基本参数"
   ]
  },
  {
   "cell_type": "code",
   "execution_count": 2,
   "id": "e0aed47d-7543-420f-a913-c129dfa293c9",
   "metadata": {},
   "outputs": [],
   "source": [
    "batch_size = 40\n",
    "epochs = 120\n",
    "\n",
    "# dimensions of our images.\n",
    "img_width, img_height = 224, 224\n",
    "\n",
    "input_tensor = Input(shape=(224,224,3))\n",
    "\n",
    "nb_training_samples = 1900\n",
    "nb_validation_samples = 475 # Set parameter values"
   ]
  },
  {
   "cell_type": "markdown",
   "id": "41501696-dc1c-453f-95be-0fd065ba23cf",
   "metadata": {},
   "source": [
    "## 设置训练和验证的生成器"
   ]
  },
  {
   "cell_type": "code",
   "execution_count": 3,
   "id": "b3cc7144-5726-4a34-92eb-8e361fd9264a",
   "metadata": {},
   "outputs": [
    {
     "name": "stdout",
     "output_type": "stream",
     "text": [
      "Found 1962 images belonging to 3 classes.\n",
      "Found 538 images belonging to 3 classes.\n"
     ]
    }
   ],
   "source": [
    "# training generator configuration\n",
    "training_data_dir = './melspectrograms/training'\n",
    "\n",
    "training_datagen = image.ImageDataGenerator(\n",
    "    rescale=1./255)\n",
    "\n",
    "training_generator = training_datagen.flow_from_directory(\n",
    "    training_data_dir,\n",
    "    target_size=(img_height, img_width),\n",
    "    batch_size=batch_size)\n",
    "\n",
    "# validation generator configuration\n",
    "validation_data_dir ='./melspectrograms/testing/'\n",
    "\n",
    "validation_datagen = image.ImageDataGenerator(\n",
    "    rescale=1./255)\n",
    "\n",
    "validation_generator = validation_datagen.flow_from_directory(\n",
    "    validation_data_dir,\n",
    "    target_size=(img_height, img_width),\n",
    "    batch_size=batch_size)"
   ]
  },
  {
   "cell_type": "markdown",
   "id": "9b76c37f-688a-42c0-9e5c-8d9f5c2127c3",
   "metadata": {},
   "source": [
    "## 使用VGG16"
   ]
  },
  {
   "cell_type": "code",
   "execution_count": 4,
   "id": "7c782444-dea9-47e4-8fc1-a1a45e88b86e",
   "metadata": {
    "tags": []
   },
   "outputs": [
    {
     "name": "stdout",
     "output_type": "stream",
     "text": [
      "Model loaded.\n",
      "Model: \"vgg16\"\n",
      "_________________________________________________________________\n",
      " Layer (type)                Output Shape              Param #   \n",
      "=================================================================\n",
      " input_1 (InputLayer)        [(None, 224, 224, 3)]     0         \n",
      "                                                                 \n",
      " block1_conv1 (Conv2D)       (None, 224, 224, 64)      1792      \n",
      "                                                                 \n",
      " block1_conv2 (Conv2D)       (None, 224, 224, 64)      36928     \n",
      "                                                                 \n",
      " block1_pool (MaxPooling2D)  (None, 112, 112, 64)      0         \n",
      "                                                                 \n",
      " block2_conv1 (Conv2D)       (None, 112, 112, 128)     73856     \n",
      "                                                                 \n",
      " block2_conv2 (Conv2D)       (None, 112, 112, 128)     147584    \n",
      "                                                                 \n",
      " block2_pool (MaxPooling2D)  (None, 56, 56, 128)       0         \n",
      "                                                                 \n",
      " block3_conv1 (Conv2D)       (None, 56, 56, 256)       295168    \n",
      "                                                                 \n",
      " block3_conv2 (Conv2D)       (None, 56, 56, 256)       590080    \n",
      "                                                                 \n",
      " block3_conv3 (Conv2D)       (None, 56, 56, 256)       590080    \n",
      "                                                                 \n",
      " block3_pool (MaxPooling2D)  (None, 28, 28, 256)       0         \n",
      "                                                                 \n",
      " block4_conv1 (Conv2D)       (None, 28, 28, 512)       1180160   \n",
      "                                                                 \n",
      " block4_conv2 (Conv2D)       (None, 28, 28, 512)       2359808   \n",
      "                                                                 \n",
      " block4_conv3 (Conv2D)       (None, 28, 28, 512)       2359808   \n",
      "                                                                 \n",
      " block4_pool (MaxPooling2D)  (None, 14, 14, 512)       0         \n",
      "                                                                 \n",
      " block5_conv1 (Conv2D)       (None, 14, 14, 512)       2359808   \n",
      "                                                                 \n",
      " block5_conv2 (Conv2D)       (None, 14, 14, 512)       2359808   \n",
      "                                                                 \n",
      " block5_conv3 (Conv2D)       (None, 14, 14, 512)       2359808   \n",
      "                                                                 \n",
      " block5_pool (MaxPooling2D)  (None, 7, 7, 512)         0         \n",
      "                                                                 \n",
      "=================================================================\n",
      "Total params: 14,714,688\n",
      "Trainable params: 14,714,688\n",
      "Non-trainable params: 0\n",
      "_________________________________________________________________\n"
     ]
    }
   ],
   "source": [
    "base_model = VGG16(weights='imagenet', include_top=False, input_tensor=input_tensor)\n",
    "print('Model loaded.')\n",
    "base_model.summary()"
   ]
  },
  {
   "cell_type": "markdown",
   "id": "05322850-bfea-4e50-b44c-b65c0b0b9f82",
   "metadata": {},
   "source": [
    "## 使用MobileNet"
   ]
  },
  {
   "cell_type": "code",
   "execution_count": 5,
   "id": "e5cbb568-727f-49c8-85dd-410e24e26b00",
   "metadata": {
    "tags": []
   },
   "outputs": [],
   "source": [
    "# base_model = MobileNet(weights='imagenet', include_top=False, input_tensor=input_tensor)\n",
    "# print('Model loaded.')\n",
    "# base_model.summary()"
   ]
  },
  {
   "cell_type": "markdown",
   "id": "3f82cd7e-320e-4172-a3d9-9cde84e4b9d0",
   "metadata": {},
   "source": [
    "## 使用ResNet50"
   ]
  },
  {
   "cell_type": "code",
   "execution_count": 6,
   "id": "61a563b9-e442-44e9-901d-3979f0aecdf3",
   "metadata": {
    "tags": []
   },
   "outputs": [],
   "source": [
    "# base_model = ResNet50(weights='imagenet', include_top=False, input_tensor=input_tensor)\n",
    "# print('Model loaded.')\n",
    "# base_model.summary()"
   ]
  },
  {
   "cell_type": "markdown",
   "id": "1ea942bf-daef-4e95-94da-d66fdc33807f",
   "metadata": {},
   "source": [
    "## 建立顶层模型"
   ]
  },
  {
   "cell_type": "code",
   "execution_count": 5,
   "id": "8d4aafcd-f64c-4450-9305-317df2b4aa8f",
   "metadata": {
    "tags": []
   },
   "outputs": [
    {
     "name": "stdout",
     "output_type": "stream",
     "text": [
      "Model: \"sequential\"\n",
      "_________________________________________________________________\n",
      " Layer (type)                Output Shape              Param #   \n",
      "=================================================================\n",
      " flatten (Flatten)           (None, 25088)             0         \n",
      "                                                                 \n",
      " dropout (Dropout)           (None, 25088)             0         \n",
      "                                                                 \n",
      " dense (Dense)               (None, 256)               6422784   \n",
      "                                                                 \n",
      " dropout_1 (Dropout)         (None, 256)               0         \n",
      "                                                                 \n",
      " dense_1 (Dense)             (None, 3)                 771       \n",
      "                                                                 \n",
      "=================================================================\n",
      "Total params: 6,423,555\n",
      "Trainable params: 6,423,555\n",
      "Non-trainable params: 0\n",
      "_________________________________________________________________\n"
     ]
    }
   ],
   "source": [
    "# build a classifier model to put on top of the convolutional model\n",
    "top_model = Sequential()\n",
    "top_model.add(Flatten(input_shape=base_model.output_shape[1:]))\n",
    "top_model.add(Dropout(0.5)) #新增了一个0.5的dropout防止过拟合 keypoint****\n",
    "top_model.add(Dense(256, activation='relu'))\n",
    "top_model.add(Dropout(0.5))\n",
    "top_model.add(Dense(3, activation='softmax'))\n",
    "top_model.summary()"
   ]
  },
  {
   "cell_type": "markdown",
   "id": "68624948-fc55-4b75-8a17-1d16782402d7",
   "metadata": {},
   "source": [
    "## 结合底层和顶层模型"
   ]
  },
  {
   "cell_type": "code",
   "execution_count": 6,
   "id": "bf4123c2-2fe8-443b-8591-979651cd0563",
   "metadata": {
    "tags": []
   },
   "outputs": [
    {
     "name": "stdout",
     "output_type": "stream",
     "text": [
      "Model: \"model\"\n",
      "_________________________________________________________________\n",
      " Layer (type)                Output Shape              Param #   \n",
      "=================================================================\n",
      " input_1 (InputLayer)        [(None, 224, 224, 3)]     0         \n",
      "                                                                 \n",
      " block1_conv1 (Conv2D)       (None, 224, 224, 64)      1792      \n",
      "                                                                 \n",
      " block1_conv2 (Conv2D)       (None, 224, 224, 64)      36928     \n",
      "                                                                 \n",
      " block1_pool (MaxPooling2D)  (None, 112, 112, 64)      0         \n",
      "                                                                 \n",
      " block2_conv1 (Conv2D)       (None, 112, 112, 128)     73856     \n",
      "                                                                 \n",
      " block2_conv2 (Conv2D)       (None, 112, 112, 128)     147584    \n",
      "                                                                 \n",
      " block2_pool (MaxPooling2D)  (None, 56, 56, 128)       0         \n",
      "                                                                 \n",
      " block3_conv1 (Conv2D)       (None, 56, 56, 256)       295168    \n",
      "                                                                 \n",
      " block3_conv2 (Conv2D)       (None, 56, 56, 256)       590080    \n",
      "                                                                 \n",
      " block3_conv3 (Conv2D)       (None, 56, 56, 256)       590080    \n",
      "                                                                 \n",
      " block3_pool (MaxPooling2D)  (None, 28, 28, 256)       0         \n",
      "                                                                 \n",
      " block4_conv1 (Conv2D)       (None, 28, 28, 512)       1180160   \n",
      "                                                                 \n",
      " block4_conv2 (Conv2D)       (None, 28, 28, 512)       2359808   \n",
      "                                                                 \n",
      " block4_conv3 (Conv2D)       (None, 28, 28, 512)       2359808   \n",
      "                                                                 \n",
      " block4_pool (MaxPooling2D)  (None, 14, 14, 512)       0         \n",
      "                                                                 \n",
      " block5_conv1 (Conv2D)       (None, 14, 14, 512)       2359808   \n",
      "                                                                 \n",
      " block5_conv2 (Conv2D)       (None, 14, 14, 512)       2359808   \n",
      "                                                                 \n",
      " block5_conv3 (Conv2D)       (None, 14, 14, 512)       2359808   \n",
      "                                                                 \n",
      " block5_pool (MaxPooling2D)  (None, 7, 7, 512)         0         \n",
      "                                                                 \n",
      " sequential (Sequential)     (None, 3)                 6423555   \n",
      "                                                                 \n",
      "=================================================================\n",
      "Total params: 21,138,243\n",
      "Trainable params: 21,138,243\n",
      "Non-trainable params: 0\n",
      "_________________________________________________________________\n"
     ]
    }
   ],
   "source": [
    "# top_model.load_weights('bootlneck_fc_model.h5')\n",
    "model = Model(inputs=base_model.input, outputs=top_model(base_model.output))\n",
    "model.summary()"
   ]
  },
  {
   "cell_type": "markdown",
   "id": "9d54f85d-6569-4f96-834a-c8ab0e3075b3",
   "metadata": {},
   "source": [
    "## 设置优化器"
   ]
  },
  {
   "cell_type": "code",
   "execution_count": 7,
   "id": "e27b32a8-c9be-4880-90f7-35cd6a7c1b51",
   "metadata": {},
   "outputs": [],
   "source": [
    "num_layers_to_freeze = 15"
   ]
  },
  {
   "cell_type": "code",
   "execution_count": 8,
   "id": "009cc9a4-4ce2-4bc2-a9d5-96d7eb9a443d",
   "metadata": {},
   "outputs": [],
   "source": [
    "from keras import metrics\n",
    "from tensorflow.keras import optimizers\n",
    "\n",
    "def top_5_accuracy(y_true, y_pred):\n",
    "    return metrics.top_k_categorical_accuracy(y_true, y_pred, k=5)\n",
    "\n",
    "for layer in model.layers[:num_layers_to_freeze]:\n",
    "    layer.trainable = False\n",
    "\n",
    "# optimizer=optimizers.SGD(lr=1e-4, momentum=0.9, decay=1e-6, nesterov=True)\n",
    "model.compile(optimizer=optimizers.SGD(learning_rate=1e-5, momentum=0.9), #将学习率由原先的1e-4降低了一个数量级\n",
    "                      loss='categorical_crossentropy', \n",
    "                      metrics=['accuracy', top_5_accuracy])\n",
    "\n",
    "# serialize model to JSON\n",
    "model_json = model.to_json()\n",
    "model_filename = \"vgg16_model_{}_frozen_layers.json\".format(num_layers_to_freeze)\n",
    "with open(model_filename, \"w\") as json_file:\n",
    "    json_file.write(model_json)"
   ]
  },
  {
   "cell_type": "markdown",
   "id": "b9298b51-2b45-4bba-984a-9daf4b6e94aa",
   "metadata": {},
   "source": [
    "## 模型训练"
   ]
  },
  {
   "cell_type": "code",
   "execution_count": 9,
   "id": "c1de84b3-e966-428a-b4a3-afa683005bc1",
   "metadata": {
    "tags": []
   },
   "outputs": [
    {
     "name": "stdout",
     "output_type": "stream",
     "text": [
      "Epoch 1/120\n",
      "48/47 [==============================] - ETA: 0s - loss: 1.4827 - accuracy: 0.3542 - top_5_accuracy: 1.0000WARNING:tensorflow:Can save best model only with val_acc available, skipping.\n",
      "47/47 [==============================] - 27s 331ms/step - loss: 1.4827 - accuracy: 0.3542 - top_5_accuracy: 1.0000 - val_loss: 1.0452 - val_accuracy: 0.3250 - val_top_5_accuracy: 1.0000\n",
      "Epoch 2/120\n",
      "48/47 [==============================] - ETA: 0s - loss: 1.3308 - accuracy: 0.3757 - top_5_accuracy: 1.0000WARNING:tensorflow:Can save best model only with val_acc available, skipping.\n",
      "47/47 [==============================] - 10s 203ms/step - loss: 1.3308 - accuracy: 0.3757 - top_5_accuracy: 1.0000 - val_loss: 0.9844 - val_accuracy: 0.4083 - val_top_5_accuracy: 1.0000\n",
      "Epoch 3/120\n",
      "48/47 [==============================] - ETA: 0s - loss: 1.2341 - accuracy: 0.4001 - top_5_accuracy: 1.0000WARNING:tensorflow:Can save best model only with val_acc available, skipping.\n",
      "47/47 [==============================] - 9s 188ms/step - loss: 1.2341 - accuracy: 0.4001 - top_5_accuracy: 1.0000 - val_loss: 0.9449 - val_accuracy: 0.5813 - val_top_5_accuracy: 1.0000\n",
      "Epoch 4/120\n",
      "48/47 [==============================] - ETA: 0s - loss: 1.1245 - accuracy: 0.4336 - top_5_accuracy: 1.0000WARNING:tensorflow:Can save best model only with val_acc available, skipping.\n",
      "47/47 [==============================] - 9s 188ms/step - loss: 1.1245 - accuracy: 0.4336 - top_5_accuracy: 1.0000 - val_loss: 0.9037 - val_accuracy: 0.4229 - val_top_5_accuracy: 1.0000\n",
      "Epoch 5/120\n",
      "48/47 [==============================] - ETA: 0s - loss: 1.1108 - accuracy: 0.4469 - top_5_accuracy: 1.0000WARNING:tensorflow:Can save best model only with val_acc available, skipping.\n",
      "47/47 [==============================] - 9s 182ms/step - loss: 1.1108 - accuracy: 0.4469 - top_5_accuracy: 1.0000 - val_loss: 0.8554 - val_accuracy: 0.8271 - val_top_5_accuracy: 1.0000\n",
      "Epoch 6/120\n",
      "48/47 [==============================] - ETA: 0s - loss: 1.0748 - accuracy: 0.4639 - top_5_accuracy: 1.0000WARNING:tensorflow:Can save best model only with val_acc available, skipping.\n",
      "47/47 [==============================] - 9s 181ms/step - loss: 1.0748 - accuracy: 0.4639 - top_5_accuracy: 1.0000 - val_loss: 0.8160 - val_accuracy: 0.9729 - val_top_5_accuracy: 1.0000\n",
      "Epoch 7/120\n",
      "48/47 [==============================] - ETA: 0s - loss: 1.0169 - accuracy: 0.4942 - top_5_accuracy: 1.0000WARNING:tensorflow:Can save best model only with val_acc available, skipping.\n",
      "47/47 [==============================] - 9s 183ms/step - loss: 1.0169 - accuracy: 0.4942 - top_5_accuracy: 1.0000 - val_loss: 0.7790 - val_accuracy: 0.9771 - val_top_5_accuracy: 1.0000\n",
      "Epoch 8/120\n",
      "48/47 [==============================] - ETA: 0s - loss: 0.9911 - accuracy: 0.5219 - top_5_accuracy: 1.0000WARNING:tensorflow:Can save best model only with val_acc available, skipping.\n",
      "47/47 [==============================] - 9s 182ms/step - loss: 0.9911 - accuracy: 0.5219 - top_5_accuracy: 1.0000 - val_loss: 0.7311 - val_accuracy: 0.9854 - val_top_5_accuracy: 1.0000\n",
      "Epoch 9/120\n",
      "48/47 [==============================] - ETA: 0s - loss: 0.9390 - accuracy: 0.5547 - top_5_accuracy: 1.0000WARNING:tensorflow:Can save best model only with val_acc available, skipping.\n",
      "47/47 [==============================] - 9s 182ms/step - loss: 0.9390 - accuracy: 0.5547 - top_5_accuracy: 1.0000 - val_loss: 0.6896 - val_accuracy: 0.9875 - val_top_5_accuracy: 1.0000\n",
      "Epoch 10/120\n",
      "48/47 [==============================] - ETA: 0s - loss: 0.8938 - accuracy: 0.5845 - top_5_accuracy: 1.0000WARNING:tensorflow:Can save best model only with val_acc available, skipping.\n",
      "47/47 [==============================] - 9s 179ms/step - loss: 0.8938 - accuracy: 0.5845 - top_5_accuracy: 1.0000 - val_loss: 0.6601 - val_accuracy: 0.9708 - val_top_5_accuracy: 1.0000\n",
      "Epoch 11/120\n",
      "48/47 [==============================] - ETA: 0s - loss: 0.9028 - accuracy: 0.5792 - top_5_accuracy: 1.0000WARNING:tensorflow:Can save best model only with val_acc available, skipping.\n",
      "47/47 [==============================] - 9s 180ms/step - loss: 0.9028 - accuracy: 0.5792 - top_5_accuracy: 1.0000 - val_loss: 0.6187 - val_accuracy: 0.9792 - val_top_5_accuracy: 1.0000\n",
      "Epoch 12/120\n",
      "48/47 [==============================] - ETA: 0s - loss: 0.8218 - accuracy: 0.6302 - top_5_accuracy: 1.0000WARNING:tensorflow:Can save best model only with val_acc available, skipping.\n",
      "47/47 [==============================] - 9s 180ms/step - loss: 0.8218 - accuracy: 0.6302 - top_5_accuracy: 1.0000 - val_loss: 0.5717 - val_accuracy: 0.9854 - val_top_5_accuracy: 1.0000\n",
      "Epoch 13/120\n",
      "48/47 [==============================] - ETA: 0s - loss: 0.7922 - accuracy: 0.6482 - top_5_accuracy: 1.0000WARNING:tensorflow:Can save best model only with val_acc available, skipping.\n",
      "47/47 [==============================] - 9s 183ms/step - loss: 0.7922 - accuracy: 0.6482 - top_5_accuracy: 1.0000 - val_loss: 0.5372 - val_accuracy: 0.9937 - val_top_5_accuracy: 1.0000\n",
      "Epoch 14/120\n",
      "48/47 [==============================] - ETA: 0s - loss: 0.7710 - accuracy: 0.6589 - top_5_accuracy: 1.0000WARNING:tensorflow:Can save best model only with val_acc available, skipping.\n",
      "47/47 [==============================] - 9s 181ms/step - loss: 0.7710 - accuracy: 0.6589 - top_5_accuracy: 1.0000 - val_loss: 0.4990 - val_accuracy: 0.9875 - val_top_5_accuracy: 1.0000\n",
      "Epoch 15/120\n",
      "48/47 [==============================] - ETA: 0s - loss: 0.7159 - accuracy: 0.7030 - top_5_accuracy: 1.0000WARNING:tensorflow:Can save best model only with val_acc available, skipping.\n",
      "47/47 [==============================] - 9s 180ms/step - loss: 0.7159 - accuracy: 0.7030 - top_5_accuracy: 1.0000 - val_loss: 0.4613 - val_accuracy: 0.9792 - val_top_5_accuracy: 1.0000\n",
      "Epoch 16/120\n",
      "48/47 [==============================] - ETA: 0s - loss: 0.6863 - accuracy: 0.7269 - top_5_accuracy: 1.0000WARNING:tensorflow:Can save best model only with val_acc available, skipping.\n",
      "47/47 [==============================] - 9s 180ms/step - loss: 0.6863 - accuracy: 0.7269 - top_5_accuracy: 1.0000 - val_loss: 0.4151 - val_accuracy: 0.9854 - val_top_5_accuracy: 1.0000\n",
      "Epoch 17/120\n",
      "48/47 [==============================] - ETA: 0s - loss: 0.6523 - accuracy: 0.7428 - top_5_accuracy: 1.0000WARNING:tensorflow:Can save best model only with val_acc available, skipping.\n",
      "47/47 [==============================] - 9s 182ms/step - loss: 0.6523 - accuracy: 0.7428 - top_5_accuracy: 1.0000 - val_loss: 0.3709 - val_accuracy: 0.9854 - val_top_5_accuracy: 1.0000\n",
      "Epoch 18/120\n",
      "48/47 [==============================] - ETA: 0s - loss: 0.6191 - accuracy: 0.7588 - top_5_accuracy: 1.0000WARNING:tensorflow:Can save best model only with val_acc available, skipping.\n",
      "47/47 [==============================] - 9s 180ms/step - loss: 0.6191 - accuracy: 0.7588 - top_5_accuracy: 1.0000 - val_loss: 0.3348 - val_accuracy: 0.9812 - val_top_5_accuracy: 1.0000\n",
      "Epoch 19/120\n",
      "48/47 [==============================] - ETA: 0s - loss: 0.5502 - accuracy: 0.8050 - top_5_accuracy: 1.0000WARNING:tensorflow:Can save best model only with val_acc available, skipping.\n",
      "47/47 [==============================] - 9s 180ms/step - loss: 0.5502 - accuracy: 0.8050 - top_5_accuracy: 1.0000 - val_loss: 0.3075 - val_accuracy: 0.9854 - val_top_5_accuracy: 1.0000\n",
      "Epoch 20/120\n",
      "48/47 [==============================] - ETA: 0s - loss: 0.5462 - accuracy: 0.7954 - top_5_accuracy: 1.0000WARNING:tensorflow:Can save best model only with val_acc available, skipping.\n",
      "47/47 [==============================] - 9s 182ms/step - loss: 0.5462 - accuracy: 0.7954 - top_5_accuracy: 1.0000 - val_loss: 0.2698 - val_accuracy: 0.9875 - val_top_5_accuracy: 1.0000\n",
      "Epoch 21/120\n",
      "48/47 [==============================] - ETA: 0s - loss: 0.4950 - accuracy: 0.8225 - top_5_accuracy: 1.0000WARNING:tensorflow:Can save best model only with val_acc available, skipping.\n",
      "47/47 [==============================] - 9s 180ms/step - loss: 0.4950 - accuracy: 0.8225 - top_5_accuracy: 1.0000 - val_loss: 0.2436 - val_accuracy: 0.9896 - val_top_5_accuracy: 1.0000\n",
      "Epoch 22/120\n",
      "48/47 [==============================] - ETA: 0s - loss: 0.4747 - accuracy: 0.8332 - top_5_accuracy: 1.0000WARNING:tensorflow:Can save best model only with val_acc available, skipping.\n",
      "47/47 [==============================] - 9s 180ms/step - loss: 0.4747 - accuracy: 0.8332 - top_5_accuracy: 1.0000 - val_loss: 0.2185 - val_accuracy: 0.9917 - val_top_5_accuracy: 1.0000\n",
      "Epoch 23/120\n",
      "48/47 [==============================] - ETA: 0s - loss: 0.4338 - accuracy: 0.8629 - top_5_accuracy: 1.0000WARNING:tensorflow:Can save best model only with val_acc available, skipping.\n",
      "47/47 [==============================] - 9s 182ms/step - loss: 0.4338 - accuracy: 0.8629 - top_5_accuracy: 1.0000 - val_loss: 0.2000 - val_accuracy: 0.9812 - val_top_5_accuracy: 1.0000\n",
      "Epoch 24/120\n",
      "48/47 [==============================] - ETA: 0s - loss: 0.4064 - accuracy: 0.8741 - top_5_accuracy: 1.0000WARNING:tensorflow:Can save best model only with val_acc available, skipping.\n",
      "47/47 [==============================] - 9s 183ms/step - loss: 0.4064 - accuracy: 0.8741 - top_5_accuracy: 1.0000 - val_loss: 0.1726 - val_accuracy: 0.9833 - val_top_5_accuracy: 1.0000\n",
      "Epoch 25/120\n",
      "48/47 [==============================] - ETA: 0s - loss: 0.3780 - accuracy: 0.8870 - top_5_accuracy: 1.0000WARNING:tensorflow:Can save best model only with val_acc available, skipping.\n",
      "47/47 [==============================] - 9s 180ms/step - loss: 0.3780 - accuracy: 0.8870 - top_5_accuracy: 1.0000 - val_loss: 0.1568 - val_accuracy: 0.9896 - val_top_5_accuracy: 1.0000\n",
      "Epoch 26/120\n",
      "48/47 [==============================] - ETA: 0s - loss: 0.3480 - accuracy: 0.8959 - top_5_accuracy: 1.0000WARNING:tensorflow:Can save best model only with val_acc available, skipping.\n",
      "47/47 [==============================] - 9s 182ms/step - loss: 0.3480 - accuracy: 0.8959 - top_5_accuracy: 1.0000 - val_loss: 0.1411 - val_accuracy: 0.9854 - val_top_5_accuracy: 1.0000\n",
      "Epoch 27/120\n",
      "48/47 [==============================] - ETA: 0s - loss: 0.3261 - accuracy: 0.9028 - top_5_accuracy: 1.0000WARNING:tensorflow:Can save best model only with val_acc available, skipping.\n",
      "47/47 [==============================] - 9s 182ms/step - loss: 0.3261 - accuracy: 0.9028 - top_5_accuracy: 1.0000 - val_loss: 0.1317 - val_accuracy: 0.9917 - val_top_5_accuracy: 1.0000\n",
      "Epoch 28/120\n",
      "48/47 [==============================] - ETA: 0s - loss: 0.3049 - accuracy: 0.9057 - top_5_accuracy: 1.0000WARNING:tensorflow:Can save best model only with val_acc available, skipping.\n",
      "47/47 [==============================] - 9s 182ms/step - loss: 0.3049 - accuracy: 0.9057 - top_5_accuracy: 1.0000 - val_loss: 0.1180 - val_accuracy: 0.9896 - val_top_5_accuracy: 1.0000\n",
      "Epoch 29/120\n",
      "48/47 [==============================] - ETA: 0s - loss: 0.2801 - accuracy: 0.9304 - top_5_accuracy: 1.0000WARNING:tensorflow:Can save best model only with val_acc available, skipping.\n",
      "47/47 [==============================] - 9s 181ms/step - loss: 0.2801 - accuracy: 0.9304 - top_5_accuracy: 1.0000 - val_loss: 0.1075 - val_accuracy: 0.9937 - val_top_5_accuracy: 1.0000\n",
      "Epoch 30/120\n",
      "48/47 [==============================] - ETA: 0s - loss: 0.2703 - accuracy: 0.9245 - top_5_accuracy: 1.0000WARNING:tensorflow:Can save best model only with val_acc available, skipping.\n",
      "47/47 [==============================] - 9s 183ms/step - loss: 0.2703 - accuracy: 0.9245 - top_5_accuracy: 1.0000 - val_loss: 0.0968 - val_accuracy: 0.9937 - val_top_5_accuracy: 1.0000\n",
      "Epoch 31/120\n",
      "48/47 [==============================] - ETA: 0s - loss: 0.2441 - accuracy: 0.9373 - top_5_accuracy: 1.0000WARNING:tensorflow:Can save best model only with val_acc available, skipping.\n",
      "47/47 [==============================] - 9s 181ms/step - loss: 0.2441 - accuracy: 0.9373 - top_5_accuracy: 1.0000 - val_loss: 0.0908 - val_accuracy: 0.9896 - val_top_5_accuracy: 1.0000\n",
      "Epoch 32/120\n",
      "48/47 [==============================] - ETA: 0s - loss: 0.2315 - accuracy: 0.9464 - top_5_accuracy: 1.0000WARNING:tensorflow:Can save best model only with val_acc available, skipping.\n",
      "47/47 [==============================] - 9s 182ms/step - loss: 0.2315 - accuracy: 0.9464 - top_5_accuracy: 1.0000 - val_loss: 0.0844 - val_accuracy: 0.9958 - val_top_5_accuracy: 1.0000\n",
      "Epoch 33/120\n",
      "48/47 [==============================] - ETA: 0s - loss: 0.2255 - accuracy: 0.9378 - top_5_accuracy: 1.0000WARNING:tensorflow:Can save best model only with val_acc available, skipping.\n",
      "47/47 [==============================] - 9s 182ms/step - loss: 0.2255 - accuracy: 0.9378 - top_5_accuracy: 1.0000 - val_loss: 0.0751 - val_accuracy: 0.9937 - val_top_5_accuracy: 1.0000\n",
      "Epoch 34/120\n",
      "48/47 [==============================] - ETA: 0s - loss: 0.2218 - accuracy: 0.9394 - top_5_accuracy: 1.0000WARNING:tensorflow:Can save best model only with val_acc available, skipping.\n",
      "47/47 [==============================] - 9s 182ms/step - loss: 0.2218 - accuracy: 0.9394 - top_5_accuracy: 1.0000 - val_loss: 0.0719 - val_accuracy: 0.9958 - val_top_5_accuracy: 1.0000\n",
      "Epoch 35/120\n",
      "48/47 [==============================] - ETA: 0s - loss: 0.1977 - accuracy: 0.9463 - top_5_accuracy: 1.0000WARNING:tensorflow:Can save best model only with val_acc available, skipping.\n",
      "47/47 [==============================] - 9s 184ms/step - loss: 0.1977 - accuracy: 0.9463 - top_5_accuracy: 1.0000 - val_loss: 0.0640 - val_accuracy: 0.9958 - val_top_5_accuracy: 1.0000\n",
      "Epoch 36/120\n",
      "48/47 [==============================] - ETA: 0s - loss: 0.1935 - accuracy: 0.9532 - top_5_accuracy: 1.0000WARNING:tensorflow:Can save best model only with val_acc available, skipping.\n",
      "47/47 [==============================] - 9s 180ms/step - loss: 0.1935 - accuracy: 0.9532 - top_5_accuracy: 1.0000 - val_loss: 0.0601 - val_accuracy: 0.9937 - val_top_5_accuracy: 1.0000\n",
      "Epoch 37/120\n",
      "48/47 [==============================] - ETA: 0s - loss: 0.1680 - accuracy: 0.9671 - top_5_accuracy: 1.0000WARNING:tensorflow:Can save best model only with val_acc available, skipping.\n",
      "47/47 [==============================] - 9s 184ms/step - loss: 0.1680 - accuracy: 0.9671 - top_5_accuracy: 1.0000 - val_loss: 0.0578 - val_accuracy: 0.9937 - val_top_5_accuracy: 1.0000\n",
      "Epoch 38/120\n",
      "48/47 [==============================] - ETA: 0s - loss: 0.1620 - accuracy: 0.9702 - top_5_accuracy: 1.0000WARNING:tensorflow:Can save best model only with val_acc available, skipping.\n",
      "47/47 [==============================] - 9s 180ms/step - loss: 0.1620 - accuracy: 0.9702 - top_5_accuracy: 1.0000 - val_loss: 0.0556 - val_accuracy: 0.9917 - val_top_5_accuracy: 1.0000\n",
      "Epoch 39/120\n",
      "48/47 [==============================] - ETA: 0s - loss: 0.1631 - accuracy: 0.9554 - top_5_accuracy: 1.0000WARNING:tensorflow:Can save best model only with val_acc available, skipping.\n",
      "47/47 [==============================] - 9s 181ms/step - loss: 0.1631 - accuracy: 0.9554 - top_5_accuracy: 1.0000 - val_loss: 0.0514 - val_accuracy: 0.9958 - val_top_5_accuracy: 1.0000\n",
      "Epoch 40/120\n",
      "48/47 [==============================] - ETA: 0s - loss: 0.1516 - accuracy: 0.9596 - top_5_accuracy: 1.0000WARNING:tensorflow:Can save best model only with val_acc available, skipping.\n",
      "47/47 [==============================] - 9s 181ms/step - loss: 0.1516 - accuracy: 0.9596 - top_5_accuracy: 1.0000 - val_loss: 0.0460 - val_accuracy: 0.9958 - val_top_5_accuracy: 1.0000\n",
      "Epoch 41/120\n",
      "47/47 [============================>.] - ETA: 0s - loss: 0.1359 - accuracy: 0.9702 - top_5_accuracy: 1.0000WARNING:tensorflow:Can save best model only with val_acc available, skipping.\n",
      "47/47 [==============================] - 9s 182ms/step - loss: 0.1359 - accuracy: 0.9702 - top_5_accuracy: 1.0000 - val_loss: 0.0430 - val_accuracy: 0.9937 - val_top_5_accuracy: 1.0000\n",
      "Epoch 42/120\n",
      "48/47 [==============================] - ETA: 0s - loss: 0.1353 - accuracy: 0.9655 - top_5_accuracy: 1.0000WARNING:tensorflow:Can save best model only with val_acc available, skipping.\n",
      "47/47 [==============================] - 9s 182ms/step - loss: 0.1353 - accuracy: 0.9655 - top_5_accuracy: 1.0000 - val_loss: 0.0415 - val_accuracy: 0.9937 - val_top_5_accuracy: 1.0000\n",
      "Epoch 43/120\n",
      "48/47 [==============================] - ETA: 0s - loss: 0.1346 - accuracy: 0.9649 - top_5_accuracy: 1.0000WARNING:tensorflow:Can save best model only with val_acc available, skipping.\n",
      "47/47 [==============================] - 9s 182ms/step - loss: 0.1346 - accuracy: 0.9649 - top_5_accuracy: 1.0000 - val_loss: 0.0390 - val_accuracy: 0.9979 - val_top_5_accuracy: 1.0000\n",
      "Epoch 44/120\n",
      "48/47 [==============================] - ETA: 0s - loss: 0.1451 - accuracy: 0.9623 - top_5_accuracy: 1.0000WARNING:tensorflow:Can save best model only with val_acc available, skipping.\n",
      "47/47 [==============================] - 9s 181ms/step - loss: 0.1451 - accuracy: 0.9623 - top_5_accuracy: 1.0000 - val_loss: 0.0362 - val_accuracy: 0.9979 - val_top_5_accuracy: 1.0000\n",
      "Epoch 45/120\n",
      "48/47 [==============================] - ETA: 0s - loss: 0.1182 - accuracy: 0.9761 - top_5_accuracy: 1.0000WARNING:tensorflow:Can save best model only with val_acc available, skipping.\n",
      "47/47 [==============================] - 9s 181ms/step - loss: 0.1182 - accuracy: 0.9761 - top_5_accuracy: 1.0000 - val_loss: 0.0358 - val_accuracy: 0.9958 - val_top_5_accuracy: 1.0000\n",
      "Epoch 46/120\n",
      "48/47 [==============================] - ETA: 0s - loss: 0.1122 - accuracy: 0.9797 - top_5_accuracy: 1.0000WARNING:tensorflow:Can save best model only with val_acc available, skipping.\n",
      "47/47 [==============================] - 9s 182ms/step - loss: 0.1122 - accuracy: 0.9797 - top_5_accuracy: 1.0000 - val_loss: 0.0357 - val_accuracy: 0.9937 - val_top_5_accuracy: 1.0000\n",
      "Epoch 47/120\n",
      "48/47 [==============================] - ETA: 0s - loss: 0.1155 - accuracy: 0.9772 - top_5_accuracy: 1.0000WARNING:tensorflow:Can save best model only with val_acc available, skipping.\n",
      "47/47 [==============================] - 9s 182ms/step - loss: 0.1155 - accuracy: 0.9772 - top_5_accuracy: 1.0000 - val_loss: 0.0339 - val_accuracy: 0.9958 - val_top_5_accuracy: 1.0000\n",
      "Epoch 48/120\n",
      "48/47 [==============================] - ETA: 0s - loss: 0.1125 - accuracy: 0.9772 - top_5_accuracy: 1.0000WARNING:tensorflow:Can save best model only with val_acc available, skipping.\n",
      "47/47 [==============================] - 9s 182ms/step - loss: 0.1125 - accuracy: 0.9772 - top_5_accuracy: 1.0000 - val_loss: 0.0276 - val_accuracy: 0.9979 - val_top_5_accuracy: 1.0000\n",
      "Epoch 49/120\n",
      "47/47 [============================>.] - ETA: 0s - loss: 0.1108 - accuracy: 0.9739 - top_5_accuracy: 1.0000WARNING:tensorflow:Can save best model only with val_acc available, skipping.\n",
      "47/47 [==============================] - 9s 180ms/step - loss: 0.1107 - accuracy: 0.9740 - top_5_accuracy: 1.0000 - val_loss: 0.0280 - val_accuracy: 0.9979 - val_top_5_accuracy: 1.0000\n",
      "Epoch 50/120\n",
      "48/47 [==============================] - ETA: 0s - loss: 0.0966 - accuracy: 0.9798 - top_5_accuracy: 1.0000WARNING:tensorflow:Can save best model only with val_acc available, skipping.\n",
      "47/47 [==============================] - 9s 180ms/step - loss: 0.0966 - accuracy: 0.9798 - top_5_accuracy: 1.0000 - val_loss: 0.0298 - val_accuracy: 0.9958 - val_top_5_accuracy: 1.0000\n",
      "Epoch 51/120\n",
      "48/47 [==============================] - ETA: 0s - loss: 0.1065 - accuracy: 0.9745 - top_5_accuracy: 1.0000WARNING:tensorflow:Can save best model only with val_acc available, skipping.\n",
      "47/47 [==============================] - 9s 180ms/step - loss: 0.1065 - accuracy: 0.9745 - top_5_accuracy: 1.0000 - val_loss: 0.0279 - val_accuracy: 0.9958 - val_top_5_accuracy: 1.0000\n",
      "Epoch 52/120\n",
      "48/47 [==============================] - ETA: 0s - loss: 0.0994 - accuracy: 0.9766 - top_5_accuracy: 1.0000WARNING:tensorflow:Can save best model only with val_acc available, skipping.\n",
      "47/47 [==============================] - 9s 183ms/step - loss: 0.0994 - accuracy: 0.9766 - top_5_accuracy: 1.0000 - val_loss: 0.0268 - val_accuracy: 0.9958 - val_top_5_accuracy: 1.0000\n",
      "Epoch 53/120\n",
      "48/47 [==============================] - ETA: 0s - loss: 0.0971 - accuracy: 0.9745 - top_5_accuracy: 1.0000WARNING:tensorflow:Can save best model only with val_acc available, skipping.\n",
      "47/47 [==============================] - 9s 181ms/step - loss: 0.0971 - accuracy: 0.9745 - top_5_accuracy: 1.0000 - val_loss: 0.0242 - val_accuracy: 0.9958 - val_top_5_accuracy: 1.0000\n",
      "Epoch 54/120\n",
      "48/47 [==============================] - ETA: 0s - loss: 0.0845 - accuracy: 0.9809 - top_5_accuracy: 1.0000WARNING:tensorflow:Can save best model only with val_acc available, skipping.\n",
      "47/47 [==============================] - 9s 181ms/step - loss: 0.0845 - accuracy: 0.9809 - top_5_accuracy: 1.0000 - val_loss: 0.0274 - val_accuracy: 0.9958 - val_top_5_accuracy: 1.0000\n",
      "Epoch 55/120\n",
      "48/47 [==============================] - ETA: 0s - loss: 0.0848 - accuracy: 0.9878 - top_5_accuracy: 1.0000WARNING:tensorflow:Can save best model only with val_acc available, skipping.\n",
      "47/47 [==============================] - 9s 181ms/step - loss: 0.0848 - accuracy: 0.9878 - top_5_accuracy: 1.0000 - val_loss: 0.0255 - val_accuracy: 0.9958 - val_top_5_accuracy: 1.0000\n",
      "Epoch 56/120\n",
      "48/47 [==============================] - ETA: 0s - loss: 0.0828 - accuracy: 0.9830 - top_5_accuracy: 1.0000WARNING:tensorflow:Can save best model only with val_acc available, skipping.\n",
      "47/47 [==============================] - 9s 183ms/step - loss: 0.0828 - accuracy: 0.9830 - top_5_accuracy: 1.0000 - val_loss: 0.0260 - val_accuracy: 0.9958 - val_top_5_accuracy: 1.0000\n",
      "Epoch 57/120\n",
      "48/47 [==============================] - ETA: 0s - loss: 0.0829 - accuracy: 0.9825 - top_5_accuracy: 1.0000WARNING:tensorflow:Can save best model only with val_acc available, skipping.\n",
      "47/47 [==============================] - 9s 182ms/step - loss: 0.0829 - accuracy: 0.9825 - top_5_accuracy: 1.0000 - val_loss: 0.0246 - val_accuracy: 0.9958 - val_top_5_accuracy: 1.0000\n",
      "Epoch 58/120\n",
      "48/47 [==============================] - ETA: 0s - loss: 0.0798 - accuracy: 0.9819 - top_5_accuracy: 1.0000WARNING:tensorflow:Can save best model only with val_acc available, skipping.\n",
      "47/47 [==============================] - 9s 180ms/step - loss: 0.0798 - accuracy: 0.9819 - top_5_accuracy: 1.0000 - val_loss: 0.0258 - val_accuracy: 0.9958 - val_top_5_accuracy: 1.0000\n",
      "Epoch 59/120\n",
      "48/47 [==============================] - ETA: 0s - loss: 0.0810 - accuracy: 0.9766 - top_5_accuracy: 1.0000WARNING:tensorflow:Can save best model only with val_acc available, skipping.\n",
      "47/47 [==============================] - 9s 182ms/step - loss: 0.0810 - accuracy: 0.9766 - top_5_accuracy: 1.0000 - val_loss: 0.0242 - val_accuracy: 0.9958 - val_top_5_accuracy: 1.0000\n",
      "Epoch 60/120\n",
      "48/47 [==============================] - ETA: 0s - loss: 0.0706 - accuracy: 0.9851 - top_5_accuracy: 1.0000WARNING:tensorflow:Can save best model only with val_acc available, skipping.\n",
      "47/47 [==============================] - 9s 181ms/step - loss: 0.0706 - accuracy: 0.9851 - top_5_accuracy: 1.0000 - val_loss: 0.0206 - val_accuracy: 0.9979 - val_top_5_accuracy: 1.0000\n",
      "Epoch 61/120\n",
      "48/47 [==============================] - ETA: 0s - loss: 0.0654 - accuracy: 0.9894 - top_5_accuracy: 1.0000WARNING:tensorflow:Can save best model only with val_acc available, skipping.\n",
      "47/47 [==============================] - 9s 181ms/step - loss: 0.0654 - accuracy: 0.9894 - top_5_accuracy: 1.0000 - val_loss: 0.0226 - val_accuracy: 0.9958 - val_top_5_accuracy: 1.0000\n",
      "Epoch 62/120\n",
      "48/47 [==============================] - ETA: 0s - loss: 0.0775 - accuracy: 0.9803 - top_5_accuracy: 1.0000WARNING:tensorflow:Can save best model only with val_acc available, skipping.\n",
      "47/47 [==============================] - 9s 181ms/step - loss: 0.0775 - accuracy: 0.9803 - top_5_accuracy: 1.0000 - val_loss: 0.0219 - val_accuracy: 0.9979 - val_top_5_accuracy: 1.0000\n",
      "Epoch 63/120\n",
      "48/47 [==============================] - ETA: 0s - loss: 0.0734 - accuracy: 0.9830 - top_5_accuracy: 1.0000WARNING:tensorflow:Can save best model only with val_acc available, skipping.\n",
      "47/47 [==============================] - 9s 181ms/step - loss: 0.0734 - accuracy: 0.9830 - top_5_accuracy: 1.0000 - val_loss: 0.0207 - val_accuracy: 0.9958 - val_top_5_accuracy: 1.0000\n",
      "Epoch 64/120\n",
      "48/47 [==============================] - ETA: 0s - loss: 0.0670 - accuracy: 0.9846 - top_5_accuracy: 1.0000WARNING:tensorflow:Can save best model only with val_acc available, skipping.\n",
      "47/47 [==============================] - 9s 180ms/step - loss: 0.0670 - accuracy: 0.9846 - top_5_accuracy: 1.0000 - val_loss: 0.0212 - val_accuracy: 0.9958 - val_top_5_accuracy: 1.0000\n",
      "Epoch 65/120\n",
      "48/47 [==============================] - ETA: 0s - loss: 0.0712 - accuracy: 0.9835 - top_5_accuracy: 1.0000WARNING:tensorflow:Can save best model only with val_acc available, skipping.\n",
      "47/47 [==============================] - 9s 182ms/step - loss: 0.0712 - accuracy: 0.9835 - top_5_accuracy: 1.0000 - val_loss: 0.0213 - val_accuracy: 0.9958 - val_top_5_accuracy: 1.0000\n",
      "Epoch 66/120\n",
      "48/47 [==============================] - ETA: 0s - loss: 0.0669 - accuracy: 0.9867 - top_5_accuracy: 1.0000WARNING:tensorflow:Can save best model only with val_acc available, skipping.\n",
      "47/47 [==============================] - 9s 181ms/step - loss: 0.0669 - accuracy: 0.9867 - top_5_accuracy: 1.0000 - val_loss: 0.0205 - val_accuracy: 0.9958 - val_top_5_accuracy: 1.0000\n",
      "Epoch 67/120\n",
      "48/47 [==============================] - ETA: 0s - loss: 0.0626 - accuracy: 0.9862 - top_5_accuracy: 1.0000WARNING:tensorflow:Can save best model only with val_acc available, skipping.\n",
      "47/47 [==============================] - 9s 182ms/step - loss: 0.0626 - accuracy: 0.9862 - top_5_accuracy: 1.0000 - val_loss: 0.0173 - val_accuracy: 0.9958 - val_top_5_accuracy: 1.0000\n",
      "Epoch 68/120\n",
      "48/47 [==============================] - ETA: 0s - loss: 0.0616 - accuracy: 0.9867 - top_5_accuracy: 1.0000WARNING:tensorflow:Can save best model only with val_acc available, skipping.\n",
      "47/47 [==============================] - 9s 181ms/step - loss: 0.0616 - accuracy: 0.9867 - top_5_accuracy: 1.0000 - val_loss: 0.0164 - val_accuracy: 0.9958 - val_top_5_accuracy: 1.0000\n",
      "Epoch 69/120\n",
      "48/47 [==============================] - ETA: 0s - loss: 0.0640 - accuracy: 0.9841 - top_5_accuracy: 1.0000WARNING:tensorflow:Can save best model only with val_acc available, skipping.\n",
      "47/47 [==============================] - 9s 180ms/step - loss: 0.0640 - accuracy: 0.9841 - top_5_accuracy: 1.0000 - val_loss: 0.0182 - val_accuracy: 0.9958 - val_top_5_accuracy: 1.0000\n",
      "Epoch 70/120\n",
      "48/47 [==============================] - ETA: 0s - loss: 0.0648 - accuracy: 0.9825 - top_5_accuracy: 1.0000WARNING:tensorflow:Can save best model only with val_acc available, skipping.\n",
      "47/47 [==============================] - 9s 182ms/step - loss: 0.0648 - accuracy: 0.9825 - top_5_accuracy: 1.0000 - val_loss: 0.0153 - val_accuracy: 0.9979 - val_top_5_accuracy: 1.0000\n",
      "Epoch 71/120\n",
      "48/47 [==============================] - ETA: 0s - loss: 0.0663 - accuracy: 0.9823 - top_5_accuracy: 1.0000WARNING:tensorflow:Can save best model only with val_acc available, skipping.\n",
      "47/47 [==============================] - 9s 181ms/step - loss: 0.0663 - accuracy: 0.9823 - top_5_accuracy: 1.0000 - val_loss: 0.0165 - val_accuracy: 0.9979 - val_top_5_accuracy: 1.0000\n",
      "Epoch 72/120\n",
      "48/47 [==============================] - ETA: 0s - loss: 0.0538 - accuracy: 0.9878 - top_5_accuracy: 1.0000WARNING:tensorflow:Can save best model only with val_acc available, skipping.\n",
      "47/47 [==============================] - 9s 179ms/step - loss: 0.0538 - accuracy: 0.9878 - top_5_accuracy: 1.0000 - val_loss: 0.0184 - val_accuracy: 0.9958 - val_top_5_accuracy: 1.0000\n",
      "Epoch 73/120\n",
      "48/47 [==============================] - ETA: 0s - loss: 0.0581 - accuracy: 0.9857 - top_5_accuracy: 1.0000WARNING:tensorflow:Can save best model only with val_acc available, skipping.\n",
      "47/47 [==============================] - 9s 183ms/step - loss: 0.0581 - accuracy: 0.9857 - top_5_accuracy: 1.0000 - val_loss: 0.0174 - val_accuracy: 0.9958 - val_top_5_accuracy: 1.0000\n",
      "Epoch 74/120\n",
      "48/47 [==============================] - ETA: 0s - loss: 0.0614 - accuracy: 0.9857 - top_5_accuracy: 1.0000WARNING:tensorflow:Can save best model only with val_acc available, skipping.\n",
      "47/47 [==============================] - 9s 181ms/step - loss: 0.0614 - accuracy: 0.9857 - top_5_accuracy: 1.0000 - val_loss: 0.0172 - val_accuracy: 0.9958 - val_top_5_accuracy: 1.0000\n",
      "Epoch 75/120\n",
      "48/47 [==============================] - ETA: 0s - loss: 0.0538 - accuracy: 0.9857 - top_5_accuracy: 1.0000WARNING:tensorflow:Can save best model only with val_acc available, skipping.\n",
      "47/47 [==============================] - 9s 181ms/step - loss: 0.0538 - accuracy: 0.9857 - top_5_accuracy: 1.0000 - val_loss: 0.0161 - val_accuracy: 0.9958 - val_top_5_accuracy: 1.0000\n",
      "Epoch 76/120\n",
      "48/47 [==============================] - ETA: 0s - loss: 0.0591 - accuracy: 0.9851 - top_5_accuracy: 1.0000WARNING:tensorflow:Can save best model only with val_acc available, skipping.\n",
      "47/47 [==============================] - 9s 183ms/step - loss: 0.0591 - accuracy: 0.9851 - top_5_accuracy: 1.0000 - val_loss: 0.0155 - val_accuracy: 0.9958 - val_top_5_accuracy: 1.0000\n",
      "Epoch 77/120\n",
      "48/47 [==============================] - ETA: 0s - loss: 0.0564 - accuracy: 0.9867 - top_5_accuracy: 1.0000WARNING:tensorflow:Can save best model only with val_acc available, skipping.\n",
      "47/47 [==============================] - 9s 182ms/step - loss: 0.0564 - accuracy: 0.9867 - top_5_accuracy: 1.0000 - val_loss: 0.0150 - val_accuracy: 0.9958 - val_top_5_accuracy: 1.0000\n",
      "Epoch 78/120\n",
      "48/47 [==============================] - ETA: 0s - loss: 0.0501 - accuracy: 0.9870 - top_5_accuracy: 1.0000WARNING:tensorflow:Can save best model only with val_acc available, skipping.\n",
      "47/47 [==============================] - 9s 183ms/step - loss: 0.0501 - accuracy: 0.9870 - top_5_accuracy: 1.0000 - val_loss: 0.0157 - val_accuracy: 0.9958 - val_top_5_accuracy: 1.0000\n",
      "Epoch 79/120\n",
      "48/47 [==============================] - ETA: 0s - loss: 0.0531 - accuracy: 0.9862 - top_5_accuracy: 1.0000WARNING:tensorflow:Can save best model only with val_acc available, skipping.\n",
      "47/47 [==============================] - 9s 181ms/step - loss: 0.0531 - accuracy: 0.9862 - top_5_accuracy: 1.0000 - val_loss: 0.0165 - val_accuracy: 0.9958 - val_top_5_accuracy: 1.0000\n",
      "Epoch 80/120\n",
      "48/47 [==============================] - ETA: 0s - loss: 0.0528 - accuracy: 0.9857 - top_5_accuracy: 1.0000WARNING:tensorflow:Can save best model only with val_acc available, skipping.\n",
      "47/47 [==============================] - 9s 181ms/step - loss: 0.0528 - accuracy: 0.9857 - top_5_accuracy: 1.0000 - val_loss: 0.0134 - val_accuracy: 0.9979 - val_top_5_accuracy: 1.0000\n",
      "Epoch 81/120\n",
      "48/47 [==============================] - ETA: 0s - loss: 0.0446 - accuracy: 0.9894 - top_5_accuracy: 1.0000WARNING:tensorflow:Can save best model only with val_acc available, skipping.\n",
      "47/47 [==============================] - 9s 180ms/step - loss: 0.0446 - accuracy: 0.9894 - top_5_accuracy: 1.0000 - val_loss: 0.0131 - val_accuracy: 0.9979 - val_top_5_accuracy: 1.0000\n",
      "Epoch 82/120\n",
      "47/47 [============================>.] - ETA: 0s - loss: 0.0424 - accuracy: 0.9904 - top_5_accuracy: 1.0000WARNING:tensorflow:Can save best model only with val_acc available, skipping.\n",
      "47/47 [==============================] - 9s 179ms/step - loss: 0.0424 - accuracy: 0.9904 - top_5_accuracy: 1.0000 - val_loss: 0.0147 - val_accuracy: 0.9958 - val_top_5_accuracy: 1.0000\n",
      "Epoch 83/120\n",
      "48/47 [==============================] - ETA: 0s - loss: 0.0520 - accuracy: 0.9865 - top_5_accuracy: 1.0000WARNING:tensorflow:Can save best model only with val_acc available, skipping.\n",
      "47/47 [==============================] - 9s 182ms/step - loss: 0.0520 - accuracy: 0.9865 - top_5_accuracy: 1.0000 - val_loss: 0.0130 - val_accuracy: 0.9958 - val_top_5_accuracy: 1.0000\n",
      "Epoch 84/120\n",
      "48/47 [==============================] - ETA: 0s - loss: 0.0539 - accuracy: 0.9846 - top_5_accuracy: 1.0000WARNING:tensorflow:Can save best model only with val_acc available, skipping.\n",
      "47/47 [==============================] - 9s 180ms/step - loss: 0.0539 - accuracy: 0.9846 - top_5_accuracy: 1.0000 - val_loss: 0.0135 - val_accuracy: 0.9958 - val_top_5_accuracy: 1.0000\n",
      "Epoch 85/120\n",
      "48/47 [==============================] - ETA: 0s - loss: 0.0482 - accuracy: 0.9883 - top_5_accuracy: 1.0000WARNING:tensorflow:Can save best model only with val_acc available, skipping.\n",
      "47/47 [==============================] - 9s 181ms/step - loss: 0.0482 - accuracy: 0.9883 - top_5_accuracy: 1.0000 - val_loss: 0.0139 - val_accuracy: 0.9958 - val_top_5_accuracy: 1.0000\n",
      "Epoch 86/120\n",
      "48/47 [==============================] - ETA: 0s - loss: 0.0472 - accuracy: 0.9872 - top_5_accuracy: 1.0000WARNING:tensorflow:Can save best model only with val_acc available, skipping.\n",
      "47/47 [==============================] - 9s 182ms/step - loss: 0.0472 - accuracy: 0.9872 - top_5_accuracy: 1.0000 - val_loss: 0.0149 - val_accuracy: 0.9958 - val_top_5_accuracy: 1.0000\n",
      "Epoch 87/120\n",
      "48/47 [==============================] - ETA: 0s - loss: 0.0476 - accuracy: 0.9899 - top_5_accuracy: 1.0000WARNING:tensorflow:Can save best model only with val_acc available, skipping.\n",
      "47/47 [==============================] - 9s 183ms/step - loss: 0.0476 - accuracy: 0.9899 - top_5_accuracy: 1.0000 - val_loss: 0.0091 - val_accuracy: 0.9979 - val_top_5_accuracy: 1.0000\n",
      "Epoch 88/120\n",
      "48/47 [==============================] - ETA: 0s - loss: 0.0499 - accuracy: 0.9851 - top_5_accuracy: 1.0000WARNING:tensorflow:Can save best model only with val_acc available, skipping.\n",
      "47/47 [==============================] - 9s 181ms/step - loss: 0.0499 - accuracy: 0.9851 - top_5_accuracy: 1.0000 - val_loss: 0.0134 - val_accuracy: 0.9958 - val_top_5_accuracy: 1.0000\n",
      "Epoch 89/120\n",
      "48/47 [==============================] - ETA: 0s - loss: 0.0396 - accuracy: 0.9931 - top_5_accuracy: 1.0000WARNING:tensorflow:Can save best model only with val_acc available, skipping.\n",
      "47/47 [==============================] - 9s 184ms/step - loss: 0.0396 - accuracy: 0.9931 - top_5_accuracy: 1.0000 - val_loss: 0.0135 - val_accuracy: 0.9958 - val_top_5_accuracy: 1.0000\n",
      "Epoch 90/120\n",
      "48/47 [==============================] - ETA: 0s - loss: 0.0445 - accuracy: 0.9870 - top_5_accuracy: 1.0000WARNING:tensorflow:Can save best model only with val_acc available, skipping.\n",
      "47/47 [==============================] - 9s 180ms/step - loss: 0.0445 - accuracy: 0.9870 - top_5_accuracy: 1.0000 - val_loss: 0.0142 - val_accuracy: 0.9958 - val_top_5_accuracy: 1.0000\n",
      "Epoch 91/120\n",
      "47/47 [============================>.] - ETA: 0s - loss: 0.0421 - accuracy: 0.9910 - top_5_accuracy: 1.0000WARNING:tensorflow:Can save best model only with val_acc available, skipping.\n",
      "47/47 [==============================] - 9s 180ms/step - loss: 0.0421 - accuracy: 0.9910 - top_5_accuracy: 1.0000 - val_loss: 0.0113 - val_accuracy: 0.9979 - val_top_5_accuracy: 1.0000\n",
      "Epoch 92/120\n",
      "48/47 [==============================] - ETA: 0s - loss: 0.0448 - accuracy: 0.9867 - top_5_accuracy: 1.0000WARNING:tensorflow:Can save best model only with val_acc available, skipping.\n",
      "47/47 [==============================] - 9s 180ms/step - loss: 0.0448 - accuracy: 0.9867 - top_5_accuracy: 1.0000 - val_loss: 0.0131 - val_accuracy: 0.9958 - val_top_5_accuracy: 1.0000\n",
      "Epoch 93/120\n",
      "48/47 [==============================] - ETA: 0s - loss: 0.0433 - accuracy: 0.9894 - top_5_accuracy: 1.0000WARNING:tensorflow:Can save best model only with val_acc available, skipping.\n",
      "47/47 [==============================] - 9s 183ms/step - loss: 0.0433 - accuracy: 0.9894 - top_5_accuracy: 1.0000 - val_loss: 0.0108 - val_accuracy: 0.9979 - val_top_5_accuracy: 1.0000\n",
      "Epoch 94/120\n",
      "48/47 [==============================] - ETA: 0s - loss: 0.0447 - accuracy: 0.9878 - top_5_accuracy: 1.0000WARNING:tensorflow:Can save best model only with val_acc available, skipping.\n",
      "47/47 [==============================] - 9s 181ms/step - loss: 0.0447 - accuracy: 0.9878 - top_5_accuracy: 1.0000 - val_loss: 0.0103 - val_accuracy: 0.9979 - val_top_5_accuracy: 1.0000\n",
      "Epoch 95/120\n",
      "48/47 [==============================] - ETA: 0s - loss: 0.0374 - accuracy: 0.9920 - top_5_accuracy: 1.0000WARNING:tensorflow:Can save best model only with val_acc available, skipping.\n",
      "47/47 [==============================] - 9s 181ms/step - loss: 0.0374 - accuracy: 0.9920 - top_5_accuracy: 1.0000 - val_loss: 0.0123 - val_accuracy: 0.9958 - val_top_5_accuracy: 1.0000\n",
      "Epoch 96/120\n",
      "48/47 [==============================] - ETA: 0s - loss: 0.0394 - accuracy: 0.9910 - top_5_accuracy: 1.0000WARNING:tensorflow:Can save best model only with val_acc available, skipping.\n",
      "47/47 [==============================] - 9s 181ms/step - loss: 0.0394 - accuracy: 0.9910 - top_5_accuracy: 1.0000 - val_loss: 0.0120 - val_accuracy: 0.9958 - val_top_5_accuracy: 1.0000\n",
      "Epoch 97/120\n",
      "48/47 [==============================] - ETA: 0s - loss: 0.0397 - accuracy: 0.9899 - top_5_accuracy: 1.0000WARNING:tensorflow:Can save best model only with val_acc available, skipping.\n",
      "47/47 [==============================] - 9s 181ms/step - loss: 0.0397 - accuracy: 0.9899 - top_5_accuracy: 1.0000 - val_loss: 0.0109 - val_accuracy: 0.9979 - val_top_5_accuracy: 1.0000\n",
      "Epoch 98/120\n",
      "48/47 [==============================] - ETA: 0s - loss: 0.0384 - accuracy: 0.9920 - top_5_accuracy: 1.0000WARNING:tensorflow:Can save best model only with val_acc available, skipping.\n",
      "47/47 [==============================] - 9s 179ms/step - loss: 0.0384 - accuracy: 0.9920 - top_5_accuracy: 1.0000 - val_loss: 0.0101 - val_accuracy: 1.0000 - val_top_5_accuracy: 1.0000\n",
      "Epoch 99/120\n",
      "48/47 [==============================] - ETA: 0s - loss: 0.0413 - accuracy: 0.9888 - top_5_accuracy: 1.0000WARNING:tensorflow:Can save best model only with val_acc available, skipping.\n",
      "47/47 [==============================] - 9s 182ms/step - loss: 0.0413 - accuracy: 0.9888 - top_5_accuracy: 1.0000 - val_loss: 0.0096 - val_accuracy: 0.9979 - val_top_5_accuracy: 1.0000\n",
      "Epoch 100/120\n",
      "48/47 [==============================] - ETA: 0s - loss: 0.0386 - accuracy: 0.9883 - top_5_accuracy: 1.0000WARNING:tensorflow:Can save best model only with val_acc available, skipping.\n",
      "47/47 [==============================] - 9s 181ms/step - loss: 0.0386 - accuracy: 0.9883 - top_5_accuracy: 1.0000 - val_loss: 0.0095 - val_accuracy: 0.9979 - val_top_5_accuracy: 1.0000\n",
      "Epoch 101/120\n",
      "48/47 [==============================] - ETA: 0s - loss: 0.0408 - accuracy: 0.9899 - top_5_accuracy: 1.0000WARNING:tensorflow:Can save best model only with val_acc available, skipping.\n",
      "47/47 [==============================] - 9s 181ms/step - loss: 0.0408 - accuracy: 0.9899 - top_5_accuracy: 1.0000 - val_loss: 0.0122 - val_accuracy: 0.9958 - val_top_5_accuracy: 1.0000\n",
      "Epoch 102/120\n",
      "48/47 [==============================] - ETA: 0s - loss: 0.0347 - accuracy: 0.9915 - top_5_accuracy: 1.0000WARNING:tensorflow:Can save best model only with val_acc available, skipping.\n",
      "47/47 [==============================] - 9s 181ms/step - loss: 0.0347 - accuracy: 0.9915 - top_5_accuracy: 1.0000 - val_loss: 0.0104 - val_accuracy: 0.9958 - val_top_5_accuracy: 1.0000\n",
      "Epoch 103/120\n",
      "48/47 [==============================] - ETA: 0s - loss: 0.0344 - accuracy: 0.9926 - top_5_accuracy: 1.0000WARNING:tensorflow:Can save best model only with val_acc available, skipping.\n",
      "47/47 [==============================] - 9s 182ms/step - loss: 0.0344 - accuracy: 0.9926 - top_5_accuracy: 1.0000 - val_loss: 0.0148 - val_accuracy: 0.9958 - val_top_5_accuracy: 1.0000\n",
      "Epoch 104/120\n",
      "48/47 [==============================] - ETA: 0s - loss: 0.0341 - accuracy: 0.9904 - top_5_accuracy: 1.0000WARNING:tensorflow:Can save best model only with val_acc available, skipping.\n",
      "47/47 [==============================] - 9s 181ms/step - loss: 0.0341 - accuracy: 0.9904 - top_5_accuracy: 1.0000 - val_loss: 0.0122 - val_accuracy: 0.9958 - val_top_5_accuracy: 1.0000\n",
      "Epoch 105/120\n",
      "48/47 [==============================] - ETA: 0s - loss: 0.0376 - accuracy: 0.9883 - top_5_accuracy: 1.0000WARNING:tensorflow:Can save best model only with val_acc available, skipping.\n",
      "47/47 [==============================] - 9s 180ms/step - loss: 0.0376 - accuracy: 0.9883 - top_5_accuracy: 1.0000 - val_loss: 0.0118 - val_accuracy: 0.9958 - val_top_5_accuracy: 1.0000\n",
      "Epoch 106/120\n",
      "48/47 [==============================] - ETA: 0s - loss: 0.0348 - accuracy: 0.9910 - top_5_accuracy: 1.0000WARNING:tensorflow:Can save best model only with val_acc available, skipping.\n",
      "47/47 [==============================] - 9s 181ms/step - loss: 0.0348 - accuracy: 0.9910 - top_5_accuracy: 1.0000 - val_loss: 0.0122 - val_accuracy: 0.9958 - val_top_5_accuracy: 1.0000\n",
      "Epoch 107/120\n",
      "48/47 [==============================] - ETA: 0s - loss: 0.0380 - accuracy: 0.9872 - top_5_accuracy: 1.0000WARNING:tensorflow:Can save best model only with val_acc available, skipping.\n",
      "47/47 [==============================] - 9s 180ms/step - loss: 0.0380 - accuracy: 0.9872 - top_5_accuracy: 1.0000 - val_loss: 0.0119 - val_accuracy: 0.9958 - val_top_5_accuracy: 1.0000\n",
      "Epoch 108/120\n",
      "48/47 [==============================] - ETA: 0s - loss: 0.0345 - accuracy: 0.9904 - top_5_accuracy: 1.0000WARNING:tensorflow:Can save best model only with val_acc available, skipping.\n",
      "47/47 [==============================] - 9s 181ms/step - loss: 0.0345 - accuracy: 0.9904 - top_5_accuracy: 1.0000 - val_loss: 0.0123 - val_accuracy: 0.9958 - val_top_5_accuracy: 1.0000\n",
      "Epoch 109/120\n",
      "48/47 [==============================] - ETA: 0s - loss: 0.0328 - accuracy: 0.9904 - top_5_accuracy: 1.0000WARNING:tensorflow:Can save best model only with val_acc available, skipping.\n",
      "47/47 [==============================] - 9s 181ms/step - loss: 0.0328 - accuracy: 0.9904 - top_5_accuracy: 1.0000 - val_loss: 0.0123 - val_accuracy: 0.9958 - val_top_5_accuracy: 1.0000\n",
      "Epoch 110/120\n",
      "48/47 [==============================] - ETA: 0s - loss: 0.0378 - accuracy: 0.9915 - top_5_accuracy: 1.0000WARNING:tensorflow:Can save best model only with val_acc available, skipping.\n",
      "47/47 [==============================] - 9s 180ms/step - loss: 0.0378 - accuracy: 0.9915 - top_5_accuracy: 1.0000 - val_loss: 0.0138 - val_accuracy: 0.9958 - val_top_5_accuracy: 1.0000\n",
      "Epoch 111/120\n",
      "48/47 [==============================] - ETA: 0s - loss: 0.0312 - accuracy: 0.9920 - top_5_accuracy: 1.0000WARNING:tensorflow:Can save best model only with val_acc available, skipping.\n",
      "47/47 [==============================] - 9s 182ms/step - loss: 0.0312 - accuracy: 0.9920 - top_5_accuracy: 1.0000 - val_loss: 0.0119 - val_accuracy: 0.9958 - val_top_5_accuracy: 1.0000\n",
      "Epoch 112/120\n",
      "48/47 [==============================] - ETA: 0s - loss: 0.0410 - accuracy: 0.9862 - top_5_accuracy: 1.0000WARNING:tensorflow:Can save best model only with val_acc available, skipping.\n",
      "47/47 [==============================] - 9s 180ms/step - loss: 0.0410 - accuracy: 0.9862 - top_5_accuracy: 1.0000 - val_loss: 0.0125 - val_accuracy: 0.9958 - val_top_5_accuracy: 1.0000\n",
      "Epoch 113/120\n",
      "48/47 [==============================] - ETA: 0s - loss: 0.0305 - accuracy: 0.9910 - top_5_accuracy: 1.0000WARNING:tensorflow:Can save best model only with val_acc available, skipping.\n",
      "47/47 [==============================] - 9s 182ms/step - loss: 0.0305 - accuracy: 0.9910 - top_5_accuracy: 1.0000 - val_loss: 0.0112 - val_accuracy: 0.9958 - val_top_5_accuracy: 1.0000\n",
      "Epoch 114/120\n",
      "48/47 [==============================] - ETA: 0s - loss: 0.0310 - accuracy: 0.9920 - top_5_accuracy: 1.0000WARNING:tensorflow:Can save best model only with val_acc available, skipping.\n",
      "47/47 [==============================] - 9s 184ms/step - loss: 0.0310 - accuracy: 0.9920 - top_5_accuracy: 1.0000 - val_loss: 0.0120 - val_accuracy: 0.9958 - val_top_5_accuracy: 1.0000\n",
      "Epoch 115/120\n",
      "48/47 [==============================] - ETA: 0s - loss: 0.0321 - accuracy: 0.9910 - top_5_accuracy: 1.0000WARNING:tensorflow:Can save best model only with val_acc available, skipping.\n",
      "47/47 [==============================] - 9s 180ms/step - loss: 0.0321 - accuracy: 0.9910 - top_5_accuracy: 1.0000 - val_loss: 0.0090 - val_accuracy: 0.9979 - val_top_5_accuracy: 1.0000\n",
      "Epoch 116/120\n",
      "48/47 [==============================] - ETA: 0s - loss: 0.0319 - accuracy: 0.9931 - top_5_accuracy: 1.0000WARNING:tensorflow:Can save best model only with val_acc available, skipping.\n",
      "47/47 [==============================] - 9s 181ms/step - loss: 0.0319 - accuracy: 0.9931 - top_5_accuracy: 1.0000 - val_loss: 0.0091 - val_accuracy: 0.9979 - val_top_5_accuracy: 1.0000\n",
      "Epoch 117/120\n",
      "48/47 [==============================] - ETA: 0s - loss: 0.0305 - accuracy: 0.9936 - top_5_accuracy: 1.0000WARNING:tensorflow:Can save best model only with val_acc available, skipping.\n",
      "47/47 [==============================] - 9s 182ms/step - loss: 0.0305 - accuracy: 0.9936 - top_5_accuracy: 1.0000 - val_loss: 0.0115 - val_accuracy: 0.9958 - val_top_5_accuracy: 1.0000\n",
      "Epoch 118/120\n",
      "48/47 [==============================] - ETA: 0s - loss: 0.0289 - accuracy: 0.9936 - top_5_accuracy: 1.0000WARNING:tensorflow:Can save best model only with val_acc available, skipping.\n",
      "47/47 [==============================] - 9s 182ms/step - loss: 0.0289 - accuracy: 0.9936 - top_5_accuracy: 1.0000 - val_loss: 0.0106 - val_accuracy: 0.9958 - val_top_5_accuracy: 1.0000\n",
      "Epoch 119/120\n",
      "48/47 [==============================] - ETA: 0s - loss: 0.0322 - accuracy: 0.9926 - top_5_accuracy: 1.0000WARNING:tensorflow:Can save best model only with val_acc available, skipping.\n",
      "47/47 [==============================] - 9s 181ms/step - loss: 0.0322 - accuracy: 0.9926 - top_5_accuracy: 1.0000 - val_loss: 0.0109 - val_accuracy: 0.9958 - val_top_5_accuracy: 1.0000\n",
      "Epoch 120/120\n",
      "48/47 [==============================] - ETA: 0s - loss: 0.0326 - accuracy: 0.9915 - top_5_accuracy: 1.0000WARNING:tensorflow:Can save best model only with val_acc available, skipping.\n",
      "47/47 [==============================] - 9s 184ms/step - loss: 0.0326 - accuracy: 0.9915 - top_5_accuracy: 1.0000 - val_loss: 0.0111 - val_accuracy: 0.9958 - val_top_5_accuracy: 1.0000\n"
     ]
    },
    {
     "data": {
      "text/plain": [
       "<keras.callbacks.History at 0x25803a32e90>"
      ]
     },
     "execution_count": 9,
     "metadata": {},
     "output_type": "execute_result"
    }
   ],
   "source": [
    "from keras.callbacks import ModelCheckpoint, TensorBoard\n",
    "from time import time\n",
    "\n",
    "tensorboard = TensorBoard(log_dir=\"logs/layers_frozen_{}\".format(num_layers_to_freeze))\n",
    "\n",
    "# checkpoint vgg16\n",
    "filepath=\"esc50_vgg16_stft_weights_train_last_2_base_layers.best.hdf5\"\n",
    "best_model_checkpoint = ModelCheckpoint(filepath, monitor='val_acc', verbose=1, save_best_only=True, mode='max')\n",
    "callbacks_list = [best_model_checkpoint, tensorboard]\n",
    "\n",
    "# # checkpoint resnet50\n",
    "# filepath=\"resnet50.best.hdf5\"\n",
    "# best_model_checkpoint = ModelCheckpoint(filepath, monitor='val_acc', verbose=1, save_best_only=True, mode='max')\n",
    "# callbacks_list = [best_model_checkpoint, tensorboard]\n",
    "\n",
    "model.fit(\n",
    "    training_generator,\n",
    "    steps_per_epoch=nb_training_samples/batch_size,\n",
    "    epochs=epochs,\n",
    "    validation_data=validation_generator,\n",
    "    validation_steps=nb_validation_samples/batch_size,\n",
    "    callbacks=callbacks_list)"
   ]
  },
  {
   "cell_type": "code",
   "execution_count": 10,
   "id": "db159097-41b9-4d0e-b1a2-6dcb886b782e",
   "metadata": {},
   "outputs": [],
   "source": [
    "def get_top_k_predictions(preds, label_map, k=5, print_flag=False):\n",
    "    sorted_array = np.argsort(preds)[::-1]\n",
    "    top_k = sorted_array[:k]\n",
    "    label_map_flip = dict((v,k) for k,v in label_map.items())\n",
    "    \n",
    "    y_pred = []\n",
    "    for label_index in top_k:\n",
    "        if print_flag:\n",
    "            print(\"{} ({})\".format(label_map_flip[label_index], preds[label_index]))\n",
    "        y_pred.append(label_map_flip[label_index])\n",
    "        \n",
    "    return y_pred"
   ]
  },
  {
   "cell_type": "markdown",
   "id": "a923dfbc-aa35-4ed4-81d7-0a8fe09b8d87",
   "metadata": {},
   "source": [
    "## 标签编码以及预测"
   ]
  },
  {
   "cell_type": "code",
   "execution_count": 13,
   "id": "2aef63d9-5ab6-4f2f-8509-72e5712222ec",
   "metadata": {},
   "outputs": [],
   "source": [
    "label_map = (training_generator.class_indices)\n",
    " \n",
    "# json = json.dumps(label_map)\n",
    "# f = open(\"cough_label_map.json\",\"w\")\n",
    "# f.write(json)\n",
    "# f.close()\n",
    "\n",
    "img_path = './melspectrograms/testing/heavyload/heavyload_talking_3_2.png'\n",
    "\n",
    "img = image.load_img(img_path, target_size=(224, 224))\n",
    "x = image.img_to_array(img)\n",
    "x = np.expand_dims(x, axis=0)* 1./255\n",
    "\n",
    "preds = model.predict(x)[0]\n"
   ]
  },
  {
   "cell_type": "code",
   "execution_count": 15,
   "id": "fb88360b-1410-4738-a808-c4dcb8828407",
   "metadata": {},
   "outputs": [
    {
     "data": {
      "text/plain": [
       "['heavyload', 'good', 'broken']"
      ]
     },
     "execution_count": 15,
     "metadata": {},
     "output_type": "execute_result"
    }
   ],
   "source": [
    "get_top_k_predictions(preds, label_map, k=3)"
   ]
  },
  {
   "cell_type": "code",
   "execution_count": 14,
   "id": "2e1b2842-2d30-4a42-b7ad-fa3595a1e2f7",
   "metadata": {},
   "outputs": [
    {
     "data": {
      "text/plain": [
       "'heavyload'"
      ]
     },
     "execution_count": 14,
     "metadata": {},
     "output_type": "execute_result"
    }
   ],
   "source": [
    "get_top_k_predictions(preds, label_map, k=1)[0]"
   ]
  },
  {
   "cell_type": "markdown",
   "id": "9ed6a7c5-90ad-4161-9a9d-dd0ce3f68684",
   "metadata": {},
   "source": [
    "## 存储模型"
   ]
  },
  {
   "cell_type": "code",
   "execution_count": 16,
   "id": "d33817ac-ec1b-4b0a-b32d-a7a752ffa972",
   "metadata": {},
   "outputs": [],
   "source": [
    "model.save('ENGINE_99.h5')"
   ]
  },
  {
   "cell_type": "markdown",
   "id": "f497306e-4e51-41ab-bfc3-381cf3a18870",
   "metadata": {},
   "source": [
    "## 计算并绘制混淆矩阵"
   ]
  },
  {
   "cell_type": "code",
   "execution_count": 17,
   "id": "5e1aabcb-e590-4a84-a346-23818c29f07c",
   "metadata": {},
   "outputs": [],
   "source": [
    "import itertools\n",
    "import matplotlib.pyplot as plt\n",
    "def plot_confusion_matrix(cm, classes,\n",
    "                          normalize=False,\n",
    "                          title='Confusion matrix',\n",
    "                          cmap=plt.cm.Blues):\n",
    "    \"\"\"\n",
    "    This function prints and plots the confusion matrix.\n",
    "    Normalization can be applied by setting `normalize=True`.\n",
    "    \"\"\"\n",
    "    if normalize:\n",
    "        cm = cm.astype('float') / cm.sum(axis=1)[:, np.newaxis]\n",
    "        print(\"Normalized confusion matrix\")\n",
    "    else:\n",
    "        print('Confusion matrix, without normalization')\n",
    "\n",
    "#     print(cm)\n",
    "    plt.figure(figsize=(6,6))\n",
    "    plt.imshow(cm, interpolation='nearest', cmap=cmap)\n",
    "    plt.title(title)\n",
    "    plt.colorbar()\n",
    "    tick_marks = np.arange(len(classes))\n",
    "    plt.xticks(tick_marks, classes, rotation=90)\n",
    "    plt.yticks(tick_marks, classes)\n",
    "\n",
    "    fmt = '.2f' if normalize else 'd'\n",
    "    thresh = cm.max() / 2.\n",
    "    for i, j in itertools.product(range(cm.shape[0]), range(cm.shape[1])):\n",
    "        plt.text(j, i, format(cm[i, j], fmt),\n",
    "                 horizontalalignment=\"center\",\n",
    "                 color=\"white\" if cm[i, j] > thresh else \"black\")\n",
    "\n",
    "    plt.tight_layout()\n",
    "    plt.ylabel('True label')\n",
    "    plt.xlabel('Predicted label')\n",
    "    "
   ]
  },
  {
   "cell_type": "code",
   "execution_count": 18,
   "id": "e0f048b1-6119-4678-8c1d-68a4c953f62f",
   "metadata": {},
   "outputs": [
    {
     "name": "stdout",
     "output_type": "stream",
     "text": [
      "Normalized confusion matrix\n"
     ]
    },
    {
     "data": {
      "image/png": "[encoded data removed]",
      "text/plain": [
       "<Figure size 432x432 with 2 Axes>"
      ]
     },
     "metadata": {
      "needs_background": "light"
     },
     "output_type": "display_data"
    }
   ],
   "source": [
    "from sklearn.metrics import confusion_matrix\n",
    "import os\n",
    "testing_dir = './melspectrograms/testing/'\n",
    "\n",
    "y_true = []\n",
    "y_pred = []\n",
    "for label in label_map.keys():\n",
    "    file_list = os.listdir(testing_dir + label)\n",
    "    for file_name in file_list:\n",
    "        img_path = testing_dir + label + '/' + file_name\n",
    "        \n",
    "        img = image.load_img(img_path, target_size=(224, 224))\n",
    "        \n",
    "        x = image.img_to_array(img)\n",
    "        x = np.expand_dims(x, axis=0)* 1./255\n",
    "        \n",
    "        preds = model.predict(x)[0]\n",
    "        \n",
    "        y_true.append(label)\n",
    "        y_pred.append(get_top_k_predictions(preds, label_map, k=1)[0])\n",
    "        \n",
    "cm = confusion_matrix(y_true, y_pred)\n",
    "plot_confusion_matrix(cm, sorted(label_map.keys()), normalize=True)"
   ]
  },
  {
   "cell_type": "markdown",
   "id": "cb77eafd-39d5-40ce-bc5c-8ae6593a4a1f",
   "metadata": {},
   "source": [
    "## 模型载入以及测试"
   ]
  },
  {
   "cell_type": "code",
   "execution_count": 20,
   "id": "f539dd42-36a2-4eec-bd34-b268f94613a3",
   "metadata": {},
   "outputs": [],
   "source": [
    "model_test = load_model('ENGINE_99.h5', custom_objects={'top_5_accuracy': top_5_accuracy} )"
   ]
  },
  {
   "cell_type": "code",
   "execution_count": 28,
   "id": "b40c26c1-1355-49e2-85fa-f0f4a078bc28",
   "metadata": {},
   "outputs": [],
   "source": [
    "img_path = './melspectrograms/testing/broken/broken_talking_3_5.png'\n",
    "\n",
    "img = image.load_img(img_path, target_size=(224, 224))\n",
    "x = image.img_to_array(img)\n",
    "x = np.expand_dims(x, axis=0)* 1./255\n",
    "\n",
    "preds = model_test.predict(x)[0]"
   ]
  },
  {
   "cell_type": "code",
   "execution_count": 29,
   "id": "36318f41-dc7c-4dbc-a367-ffedbfe58e70",
   "metadata": {},
   "outputs": [
    {
     "data": {
      "text/plain": [
       "array([9.997831e-01, 1.486927e-04, 6.813546e-05], dtype=float32)"
      ]
     },
     "execution_count": 29,
     "metadata": {},
     "output_type": "execute_result"
    }
   ],
   "source": [
    "preds"
   ]
  },
  {
   "cell_type": "code",
   "execution_count": null,
   "id": "67220c03-17f9-402d-b11c-a4c9384b4faf",
   "metadata": {},
   "outputs": [],
   "source": [
    "max_index = np.argmax(np.array(preds))"
   ]
  },
  {
   "cell_type": "code",
   "execution_count": 33,
   "id": "055c9be5-0232-472e-8181-03b3dd4eb12a",
   "metadata": {},
   "outputs": [
    {
     "data": {
      "text/plain": [
       "0"
      ]
     },
     "execution_count": 33,
     "metadata": {},
     "output_type": "execute_result"
    }
   ],
   "source": [
    "max_index"
   ]
  },
  {
   "cell_type": "code",
   "execution_count": 25,
   "id": "86c45877-d8b9-44f1-b8b6-b9c17fbe85b6",
   "metadata": {},
   "outputs": [
    {
     "data": {
      "text/plain": [
       "{'broken': 0, 'good': 1, 'heavyload': 2}"
      ]
     },
     "execution_count": 25,
     "metadata": {},
     "output_type": "execute_result"
    }
   ],
   "source": [
    "label_map"
   ]
  },
  {
   "cell_type": "code",
   "execution_count": null,
   "id": "ad16da5f-6927-457c-badc-4b9b4424e7cd",
   "metadata": {},
   "outputs": [],
   "source": []
  }
 ],
 "metadata": {
  "kernelspec": {
   "display_name": "Python 3 (ipykernel)",
   "language": "python",
   "name": "python3"
  },
  "language_info": {
   "codemirror_mode": {
    "name": "ipython",
    "version": 3
   },
   "file_extension": ".py",
   "mimetype": "text/x-python",
   "name": "python",
   "nbconvert_exporter": "python",
   "pygments_lexer": "ipython3",
   "version": "3.10.4"
  }
 },
 "nbformat": 4,
 "nbformat_minor": 5
}
