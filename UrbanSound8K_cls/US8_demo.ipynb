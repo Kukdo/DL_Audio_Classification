{
 "cells": [
  {
   "cell_type": "markdown",
   "metadata": {},
   "source": [
    "## 数据处理"
   ]
  },
  {
   "cell_type": "code",
   "execution_count": 1,
   "metadata": {
    "colab": {},
    "colab_type": "code",
    "id": "6NRi1C84C2DQ"
   },
   "outputs": [],
   "source": [
    "import numpy as np\n",
    "import pandas as pd\n",
    "\n",
    "data = pd.DataFrame(np.load(\"dataset.npy\",allow_pickle= True))\n",
    "data.columns = ['feature', 'label']\n",
    "\n",
    "from sklearn.preprocessing import LabelEncoder\n",
    "X = np.array(data.feature.tolist())\n",
    "y = np.array(data.label.tolist())\n",
    "\n",
    "from sklearn.model_selection import train_test_split\n",
    "X,val_x,y,val_y = train_test_split(X,y)\n",
    "lb = LabelEncoder()\n",
    "\n",
    "from keras.utils import np_utils\n",
    "\n",
    "y = np_utils.to_categorical(lb.fit_transform(y))\n",
    "val_y = np_utils.to_categorical(lb.fit_transform(val_y))"
   ]
  },
  {
   "cell_type": "markdown",
   "metadata": {},
   "source": [
    "## CNN网络搭建"
   ]
  },
  {
   "cell_type": "code",
   "execution_count": 2,
   "metadata": {
    "colab": {},
    "colab_type": "code",
    "id": "HYeTNd3Jcepb"
   },
   "outputs": [],
   "source": [
    "import numpy as np\n",
    "from keras.models import Sequential\n",
    "from keras.layers import Dense, Dropout, Activation, Flatten\n",
    "from keras.layers import Convolution2D, MaxPooling2D\n",
    "from tensorflow.keras.optimizers import Adam\n",
    "from keras.utils import np_utils\n",
    "from sklearn import metrics \n",
    "\n",
    "num_labels = y.shape[1]\n",
    "filter_size = 3\n",
    "\n",
    "model = Sequential()\n",
    "\n",
    "model.add(Dense(512, input_shape=(40,)))\n",
    "model.add(Activation('relu'))\n",
    "model.add(Dropout(0.5))\n",
    "\n",
    "model.add(Dense(256))\n",
    "model.add(Activation('relu'))\n",
    "model.add(Dropout(0.5))\n",
    "\n",
    "model.add(Dense(num_labels))\n",
    "model.add(Activation('softmax'))\n",
    "\n",
    "model.compile(loss='categorical_crossentropy', metrics=['accuracy'], optimizer='adam')"
   ]
  },
  {
   "cell_type": "code",
   "execution_count": 6,
   "metadata": {},
   "outputs": [
    {
     "name": "stdout",
     "output_type": "stream",
     "text": [
      "Model: \"sequential\"\n",
      "_________________________________________________________________\n",
      " Layer (type)                Output Shape              Param #   \n",
      "=================================================================\n",
      " dense (Dense)               (None, 512)               20992     \n",
      "                                                                 \n",
      " activation (Activation)     (None, 512)               0         \n",
      "                                                                 \n",
      " dropout (Dropout)           (None, 512)               0         \n",
      "                                                                 \n",
      " dense_1 (Dense)             (None, 256)               131328    \n",
      "                                                                 \n",
      " activation_1 (Activation)   (None, 256)               0         \n",
      "                                                                 \n",
      " dropout_1 (Dropout)         (None, 256)               0         \n",
      "                                                                 \n",
      " dense_2 (Dense)             (None, 10)                2570      \n",
      "                                                                 \n",
      " activation_2 (Activation)   (None, 10)                0         \n",
      "                                                                 \n",
      "=================================================================\n",
      "Total params: 154,890\n",
      "Trainable params: 154,890\n",
      "Non-trainable params: 0\n",
      "_________________________________________________________________\n"
     ]
    }
   ],
   "source": [
    "model.summary()"
   ]
  },
  {
   "cell_type": "code",
   "execution_count": 7,
   "metadata": {
    "colab": {
     "base_uri": "https://localhost:8080/",
     "height": 1163
    },
    "colab_type": "code",
    "id": "EixAes_Hcl-A",
    "outputId": "08c4a6c0-923c-4222-e529-4052bc795111"
   },
   "outputs": [
    {
     "name": "stdout",
     "output_type": "stream",
     "text": [
      "Epoch 1/32\n",
      "103/103 [==============================] - 3s 5ms/step - loss: 7.6618 - accuracy: 0.1785 - val_loss: 2.2135 - val_accuracy: 0.1901\n",
      "Epoch 2/32\n",
      "103/103 [==============================] - 0s 3ms/step - loss: 2.2212 - accuracy: 0.2290 - val_loss: 2.0455 - val_accuracy: 0.2872\n",
      "Epoch 3/32\n",
      "103/103 [==============================] - 0s 2ms/step - loss: 2.0543 - accuracy: 0.2761 - val_loss: 1.8985 - val_accuracy: 0.3523\n",
      "Epoch 4/32\n",
      "103/103 [==============================] - 0s 2ms/step - loss: 1.9436 - accuracy: 0.3109 - val_loss: 1.7571 - val_accuracy: 0.3912\n",
      "Epoch 5/32\n",
      "103/103 [==============================] - 0s 2ms/step - loss: 1.8308 - accuracy: 0.3497 - val_loss: 1.6643 - val_accuracy: 0.3990\n",
      "Epoch 6/32\n",
      "103/103 [==============================] - 0s 2ms/step - loss: 1.7379 - accuracy: 0.3787 - val_loss: 1.4981 - val_accuracy: 0.4608\n",
      "Epoch 7/32\n",
      "103/103 [==============================] - 0s 2ms/step - loss: 1.6744 - accuracy: 0.3956 - val_loss: 1.5032 - val_accuracy: 0.4892\n",
      "Epoch 8/32\n",
      "103/103 [==============================] - 0s 2ms/step - loss: 1.6067 - accuracy: 0.4257 - val_loss: 1.4045 - val_accuracy: 0.5479\n",
      "Epoch 9/32\n",
      "103/103 [==============================] - 0s 2ms/step - loss: 1.5262 - accuracy: 0.4592 - val_loss: 1.3001 - val_accuracy: 0.5776\n",
      "Epoch 10/32\n",
      "103/103 [==============================] - 0s 2ms/step - loss: 1.4604 - accuracy: 0.4819 - val_loss: 1.2365 - val_accuracy: 0.5767\n",
      "Epoch 11/32\n",
      "103/103 [==============================] - 0s 2ms/step - loss: 1.3971 - accuracy: 0.5121 - val_loss: 1.1891 - val_accuracy: 0.5996\n",
      "Epoch 12/32\n",
      "103/103 [==============================] - 0s 2ms/step - loss: 1.3331 - accuracy: 0.5363 - val_loss: 1.0999 - val_accuracy: 0.6354\n",
      "Epoch 13/32\n",
      "103/103 [==============================] - 0s 2ms/step - loss: 1.2761 - accuracy: 0.5570 - val_loss: 1.0852 - val_accuracy: 0.6413\n",
      "Epoch 14/32\n",
      "103/103 [==============================] - 0s 3ms/step - loss: 1.2166 - accuracy: 0.5839 - val_loss: 0.9956 - val_accuracy: 0.6752\n",
      "Epoch 15/32\n",
      "103/103 [==============================] - 0s 2ms/step - loss: 1.1513 - accuracy: 0.6051 - val_loss: 0.9483 - val_accuracy: 0.6977\n",
      "Epoch 16/32\n",
      "103/103 [==============================] - 0s 2ms/step - loss: 1.1069 - accuracy: 0.6199 - val_loss: 0.8989 - val_accuracy: 0.7114\n",
      "Epoch 17/32\n",
      "103/103 [==============================] - 0s 2ms/step - loss: 1.0701 - accuracy: 0.6373 - val_loss: 0.8731 - val_accuracy: 0.7210\n",
      "Epoch 18/32\n",
      "103/103 [==============================] - 0s 2ms/step - loss: 1.0185 - accuracy: 0.6480 - val_loss: 0.8317 - val_accuracy: 0.7361\n",
      "Epoch 19/32\n",
      "103/103 [==============================] - 0s 2ms/step - loss: 0.9898 - accuracy: 0.6590 - val_loss: 0.7981 - val_accuracy: 0.7361\n",
      "Epoch 20/32\n",
      "103/103 [==============================] - 0s 2ms/step - loss: 0.9400 - accuracy: 0.6778 - val_loss: 0.7863 - val_accuracy: 0.7393\n",
      "Epoch 21/32\n",
      "103/103 [==============================] - 0s 2ms/step - loss: 0.9359 - accuracy: 0.6807 - val_loss: 0.7760 - val_accuracy: 0.7435\n",
      "Epoch 22/32\n",
      "103/103 [==============================] - 0s 2ms/step - loss: 0.8953 - accuracy: 0.7007 - val_loss: 0.7195 - val_accuracy: 0.7765\n",
      "Epoch 23/32\n",
      "103/103 [==============================] - 0s 2ms/step - loss: 0.8536 - accuracy: 0.7129 - val_loss: 0.7145 - val_accuracy: 0.7769\n",
      "Epoch 24/32\n",
      "103/103 [==============================] - 0s 2ms/step - loss: 0.8510 - accuracy: 0.7158 - val_loss: 0.6859 - val_accuracy: 0.7760\n",
      "Epoch 25/32\n",
      "103/103 [==============================] - 0s 3ms/step - loss: 0.8304 - accuracy: 0.7218 - val_loss: 0.6755 - val_accuracy: 0.7838\n",
      "Epoch 26/32\n",
      "103/103 [==============================] - 0s 2ms/step - loss: 0.7964 - accuracy: 0.7294 - val_loss: 0.6469 - val_accuracy: 0.7957\n",
      "Epoch 27/32\n",
      "103/103 [==============================] - 0s 2ms/step - loss: 0.7735 - accuracy: 0.7294 - val_loss: 0.6423 - val_accuracy: 0.7980\n",
      "Epoch 28/32\n",
      "103/103 [==============================] - 0s 2ms/step - loss: 0.7515 - accuracy: 0.7455 - val_loss: 0.6197 - val_accuracy: 0.8016\n",
      "Epoch 29/32\n",
      "103/103 [==============================] - 0s 2ms/step - loss: 0.7610 - accuracy: 0.7426 - val_loss: 0.5958 - val_accuracy: 0.8090\n",
      "Epoch 30/32\n",
      "103/103 [==============================] - 0s 2ms/step - loss: 0.7191 - accuracy: 0.7529 - val_loss: 0.5745 - val_accuracy: 0.8200\n",
      "Epoch 31/32\n",
      "103/103 [==============================] - 0s 2ms/step - loss: 0.7116 - accuracy: 0.7574 - val_loss: 0.5760 - val_accuracy: 0.8053\n",
      "Epoch 32/32\n",
      "103/103 [==============================] - 0s 2ms/step - loss: 0.6935 - accuracy: 0.7604 - val_loss: 0.5549 - val_accuracy: 0.8149\n"
     ]
    },
    {
     "data": {
      "text/plain": [
       "<keras.callbacks.History at 0x21d45d19fc0>"
      ]
     },
     "execution_count": 7,
     "metadata": {},
     "output_type": "execute_result"
    }
   ],
   "source": [
    "model.fit(X, y, batch_size=64, epochs=32, validation_data=(val_x, val_y))"
   ]
  },
  {
   "cell_type": "markdown",
   "metadata": {
    "colab_type": "text",
    "id": "m8M_7fEdXm10"
   },
   "source": [
    "## XGBOOST初探"
   ]
  },
  {
   "cell_type": "code",
   "execution_count": 4,
   "metadata": {
    "colab": {},
    "colab_type": "code",
    "id": "RZkY89khHeF6"
   },
   "outputs": [],
   "source": [
    "train = np.argmax(y,axis=1)"
   ]
  },
  {
   "cell_type": "code",
   "execution_count": 6,
   "metadata": {
    "colab": {},
    "colab_type": "code",
    "id": "qerr71D_PTGo"
   },
   "outputs": [],
   "source": [
    "test = np.argmax(val_y,axis=1)"
   ]
  },
  {
   "cell_type": "code",
   "execution_count": 12,
   "metadata": {
    "colab": {},
    "colab_type": "code",
    "id": "MdQoky2iPe1c"
   },
   "outputs": [],
   "source": [
    "test_x = val_x"
   ]
  },
  {
   "cell_type": "code",
   "execution_count": 14,
   "metadata": {
    "colab": {},
    "colab_type": "code",
    "id": "x533HxHrPknX"
   },
   "outputs": [],
   "source": [
    "from xgboost import XGBClassifier"
   ]
  },
  {
   "cell_type": "code",
   "execution_count": 15,
   "metadata": {
    "colab": {},
    "colab_type": "code",
    "id": "BbPVx1WcTY_J"
   },
   "outputs": [],
   "source": [
    "model = XGBClassifier(learning_rate =0.1, \n",
    "                      n_estimators=280, \n",
    "                      max_depth=5,\n",
    "                      min_child_weight=1, \n",
    "                      gamma=0, \n",
    "                      subsample=0.8, \n",
    "                      colsample_bytree=0.8,\n",
    "                      objective= 'binary:logistic', \n",
    "                      nthread=4, \n",
    "                      scale_pos_weight=1, \n",
    "                      seed=60)"
   ]
  },
  {
   "cell_type": "code",
   "execution_count": 16,
   "metadata": {
    "colab": {
     "base_uri": "https://localhost:8080/",
     "height": 139
    },
    "colab_type": "code",
    "id": "W87KEg2JWJrA",
    "outputId": "6148b705-5f8a-4210-e4eb-4f0f7e05b4d3"
   },
   "outputs": [
    {
     "name": "stdout",
     "output_type": "stream",
     "text": [
      "[17:00:10] WARNING: C:/Users/Administrator/workspace/xgboost-win64_release_1.6.0/src/learner.cc:627: \n",
      "Parameters: { \"scale_pos_weight\" } might not be used.\n",
      "\n",
      "  This could be a false alarm, with some parameters getting used by language bindings but\n",
      "  then being mistakenly passed down to XGBoost core, or some parameter actually being used\n",
      "  but getting flagged wrongly here. Please open an issue if you find any such cases.\n",
      "\n",
      "\n"
     ]
    },
    {
     "data": {
      "text/plain": [
       "XGBClassifier(base_score=0.5, booster='gbtree', callbacks=None,\n",
       "              colsample_bylevel=1, colsample_bynode=1, colsample_bytree=0.8,\n",
       "              early_stopping_rounds=None, enable_categorical=False,\n",
       "              eval_metric=None, gamma=0, gpu_id=-1, grow_policy='depthwise',\n",
       "              importance_type=None, interaction_constraints='',\n",
       "              learning_rate=0.1, max_bin=256, max_cat_to_onehot=4,\n",
       "              max_delta_step=0, max_depth=5, max_leaves=0, min_child_weight=1,\n",
       "              missing=nan, monotone_constraints='()', n_estimators=280,\n",
       "              n_jobs=4, nthread=4, num_parallel_tree=1,\n",
       "              objective='multi:softprob', predictor='auto', random_state=60, ...)"
      ]
     },
     "execution_count": 16,
     "metadata": {},
     "output_type": "execute_result"
    }
   ],
   "source": [
    "model.fit(x,train)"
   ]
  },
  {
   "cell_type": "code",
   "execution_count": 17,
   "metadata": {
    "colab": {},
    "colab_type": "code",
    "id": "aFOGDEl8WOOl"
   },
   "outputs": [],
   "source": [
    "pred = model.predict(test_x)"
   ]
  },
  {
   "cell_type": "code",
   "execution_count": 20,
   "metadata": {
    "colab": {
     "base_uri": "https://localhost:8080/",
     "height": 34
    },
    "colab_type": "code",
    "id": "jiFkngsuXNb-",
    "outputId": "5754dbce-148d-4619-fd47-bd685c4a0ba4"
   },
   "outputs": [
    {
     "data": {
      "text/plain": [
       "0.8854786990380211"
      ]
     },
     "execution_count": 20,
     "metadata": {},
     "output_type": "execute_result"
    }
   ],
   "source": [
    "import sklearn.metrics as met\n",
    "met.accuracy_score(test, pred)"
   ]
  },
  {
   "cell_type": "code",
   "execution_count": 21,
   "metadata": {
    "colab": {
     "base_uri": "https://localhost:8080/",
     "height": 191
    },
    "colab_type": "code",
    "id": "pBa05cMZXZvG",
    "outputId": "71875475-e7be-44b2-faf9-2a87664d4081"
   },
   "outputs": [
    {
     "data": {
      "text/plain": [
       "array([[230,   0,   1,   0,   1,   1,   0,   0,   0,   1],\n",
       "       [  0,  92,   1,   1,   4,   2,   0,   4,   0,   6],\n",
       "       [  0,   0, 202,  10,   6,   2,   3,   2,   0,  16],\n",
       "       [  6,   3,  24, 199,   6,   4,   1,   1,   2,  12],\n",
       "       [  1,   0,   5,   5, 218,   1,   0,  13,   0,  10],\n",
       "       [  0,   0,   5,   0,   0, 263,   0,   0,   1,   4],\n",
       "       [  0,   0,   4,  11,   1,   0,  59,   0,   0,   2],\n",
       "       [  1,   0,   1,   0,   5,   5,   0, 249,   0,   3],\n",
       "       [  0,   0,   5,   2,   0,   0,   0,   0, 211,   2],\n",
       "       [  5,   2,  17,   5,   7,   4,   0,   1,   2, 210]], dtype=int64)"
      ]
     },
     "execution_count": 21,
     "metadata": {},
     "output_type": "execute_result"
    }
   ],
   "source": [
    "met.confusion_matrix(test, pred)"
   ]
  },
  {
   "cell_type": "markdown",
   "metadata": {
    "colab_type": "text",
    "id": "hwS369mXZcjI"
   },
   "source": [
    "## 随机森林初探"
   ]
  },
  {
   "cell_type": "code",
   "execution_count": 22,
   "metadata": {
    "colab": {},
    "colab_type": "code",
    "id": "ONXhTCiXYVMP"
   },
   "outputs": [],
   "source": [
    "from sklearn.ensemble import RandomForestClassifier"
   ]
  },
  {
   "cell_type": "code",
   "execution_count": 58,
   "metadata": {
    "colab": {
     "base_uri": "https://localhost:8080/",
     "height": 193
    },
    "colab_type": "code",
    "id": "Y5XJyKJpb0mk",
    "outputId": "1e6053b2-807b-4779-f6ac-a71b152d7091"
   },
   "outputs": [
    {
     "name": "stdout",
     "output_type": "stream",
     "text": [
      "Collecting progressbar\n",
      "  Downloading https://files.pythonhosted.org/packages/a3/a6/b8e451f6cff1c99b4747a2f7235aa904d2d49e8e1464e0b798272aa84358/progressbar-2.5.tar.gz\n",
      "Building wheels for collected packages: progressbar\n",
      "  Building wheel for progressbar (setup.py): started\n",
      "  Building wheel for progressbar (setup.py): finished with status 'done'\n",
      "  Stored in directory: /root/.cache/pip/wheels/c0/e9/6b/ea01090205e285175842339aa3b491adeb4015206cda272ff0\n",
      "Successfully built progressbar\n",
      "Installing collected packages: progressbar\n",
      "Successfully installed progressbar-2.5\n"
     ]
    }
   ],
   "source": [
    "from pip._internal import main\n",
    "main([\"install\",\"progressbar\"])\n",
    "import progressbar\n",
    "import time"
   ]
  },
  {
   "cell_type": "code",
   "execution_count": 23,
   "metadata": {
    "colab": {},
    "colab_type": "code",
    "id": "MfZ7tG7rY2JQ"
   },
   "outputs": [],
   "source": [
    "score = []\n",
    "l = [i for i in range(50,300,25)]\n",
    "for i in range(50,300,25):\n",
    "    model = RandomForestClassifier(n_estimators=i ,criterion = \"entropy\", bootstrap=False)\n",
    "    model.fit(x,train)\n",
    "    pred = model.predict(test_x)\n",
    "    score.append(met.accuracy_score(test, pred))"
   ]
  },
  {
   "cell_type": "code",
   "execution_count": 24,
   "metadata": {
    "colab": {
     "base_uri": "https://localhost:8080/",
     "height": 269
    },
    "colab_type": "code",
    "id": "zUUpAjJWbhRX",
    "outputId": "c0e8c6cf-67c3-4d91-a887-7b3bb6a5cbc1"
   },
   "outputs": [
    {
     "data": {
      "image/png": "[encoded data removed]",
      "text/plain": [
       "<Figure size 432x288 with 1 Axes>"
      ]
     },
     "metadata": {
      "needs_background": "light"
     },
     "output_type": "display_data"
    }
   ],
   "source": [
    "from matplotlib import pyplot as plt\n",
    "plt.plot(l,score)\n",
    "plt.show()"
   ]
  },
  {
   "cell_type": "code",
   "execution_count": null,
   "metadata": {},
   "outputs": [],
   "source": []
  }
 ],
 "metadata": {
  "accelerator": "GPU",
  "colab": {
   "name": "Model_MFCC.ipynb",
   "provenance": [],
   "version": "0.3.2"
  },
  "kernelspec": {
   "display_name": "Python 3 (ipykernel)",
   "language": "python",
   "name": "python3"
  },
  "language_info": {
   "codemirror_mode": {
    "name": "ipython",
    "version": 3
   },
   "file_extension": ".py",
   "mimetype": "text/x-python",
   "name": "python",
   "nbconvert_exporter": "python",
   "pygments_lexer": "ipython3",
   "version": "3.10.4"
  }
 },
 "nbformat": 4,
 "nbformat_minor": 4
}
