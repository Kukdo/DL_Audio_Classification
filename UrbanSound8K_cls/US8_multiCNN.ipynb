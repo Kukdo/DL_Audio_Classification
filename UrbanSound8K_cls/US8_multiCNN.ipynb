{
 "cells": [
  {
   "cell_type": "markdown",
   "metadata": {
    "colab_type": "text",
    "id": "fhsl2SrcmggK"
   },
   "source": [
    "## 数据处理"
   ]
  },
  {
   "cell_type": "code",
   "execution_count": 1,
   "metadata": {
    "colab": {},
    "colab_type": "code",
    "id": "6NRi1C84C2DQ"
   },
   "outputs": [],
   "source": [
    "import numpy as np\n",
    "import pandas as pd\n",
    "import seaborn as sns\n",
    "from matplotlib import pyplot as plt\n",
    "from sklearn.preprocessing import LabelEncoder\n",
    "from sklearn.preprocessing import StandardScaler\n",
    "\n",
    "std = StandardScaler()\n",
    "\n",
    "data = pd.DataFrame(np.load(\"dataset.npy\",allow_pickle= True))\n",
    "data.columns = ['feature', 'label']\n",
    "X = np.array(data.feature.tolist())\n",
    "std.fit(X)\n",
    "Y = np.array(data.label.tolist())"
   ]
  },
  {
   "cell_type": "markdown",
   "metadata": {
    "colab_type": "text",
    "id": "4dg-XwYCr-ou"
   },
   "source": [
    "## 绘制分布柱状图"
   ]
  },
  {
   "cell_type": "code",
   "execution_count": 2,
   "metadata": {
    "colab": {
     "base_uri": "https://localhost:8080/",
     "height": 305
    },
    "colab_type": "code",
    "id": "Tumw1DhgqsNs",
    "outputId": "ee3050e0-6a9d-4ead-ab7a-0ba5274f296c"
   },
   "outputs": [
    {
     "name": "stdout",
     "output_type": "stream",
     "text": [
      "['air_conditioner' 'car_horn' 'children_playing' 'dog_bark' 'drilling'\n",
      " 'engine_idling' 'gun_shot' 'jackhammer' 'siren' 'street_music']\n"
     ]
    },
    {
     "data": {
      "image/png": "[encoded data removed]",
      "text/plain": [
       "<Figure size 432x288 with 1 Axes>"
      ]
     },
     "metadata": {
      "needs_background": "light"
     },
     "output_type": "display_data"
    }
   ],
   "source": [
    "%matplotlib inline\n",
    "plt.hist(Y, bins = 20);\n",
    "print(np.unique(Y))"
   ]
  },
  {
   "cell_type": "code",
   "execution_count": 3,
   "metadata": {},
   "outputs": [
    {
     "data": {
      "text/plain": [
       "(40,)"
      ]
     },
     "execution_count": 3,
     "metadata": {},
     "output_type": "execute_result"
    }
   ],
   "source": [
    "X[0].shape"
   ]
  },
  {
   "cell_type": "code",
   "execution_count": 4,
   "metadata": {
    "colab": {
     "base_uri": "https://localhost:8080/",
     "height": 34
    },
    "colab_type": "code",
    "id": "iN13JJGwz7id",
    "outputId": "e883d65f-c5f0-4014-b2f6-6c99d4f7ec12",
    "tags": []
   },
   "outputs": [],
   "source": [
    "# X.shape,Y.shape,X[0].reshape(1,X[0].shape[0]).shape"
   ]
  },
  {
   "cell_type": "code",
   "execution_count": 5,
   "metadata": {
    "colab": {},
    "colab_type": "code",
    "id": "-AfmgWk8zqgM"
   },
   "outputs": [],
   "source": [
    "from sklearn.model_selection import train_test_split\n",
    "X,val_x,y,val_y = train_test_split(X,Y,test_size=0.3)\n",
    "lb = LabelEncoder()\n",
    "\n",
    "from keras.utils import np_utils\n",
    "\n",
    "y_en = np_utils.to_categorical(lb.fit_transform(y))\n",
    "val_y_en = np_utils.to_categorical(lb.fit_transform(val_y))"
   ]
  },
  {
   "cell_type": "code",
   "execution_count": 6,
   "metadata": {
    "colab": {},
    "colab_type": "code",
    "id": "0WcVU3JJqcb5"
   },
   "outputs": [],
   "source": [
    "def acc(y_test,prediction):\n",
    "\n",
    "    ### PRINTING ACCURACY OF PREDICTION\n",
    "    ### RECALL\n",
    "    ### PRECISION\n",
    "    ### CLASIFICATION REPORT\n",
    "    ### CONFUSION MATRIX\n",
    "    cm = confusion_matrix(y_test, prediction)\n",
    "    recall = np.diag(cm) / np.sum(cm, axis = 1)\n",
    "    precision = np.diag(cm) / np.sum(cm, axis = 0)\n",
    "    \n",
    "    print ('Recall:', recall)\n",
    "    print ('Precision:', precision)\n",
    "    print ('\\n clasification report:\\n', classification_report(y_test,prediction))\n",
    "    print ('\\n confussion matrix:\\n',confusion_matrix(y_test, prediction))\n",
    "    \n",
    "    ax = sns.heatmap(confusion_matrix(y_test, prediction),linewidths= 0.5,cmap=\"YlGnBu\")"
   ]
  },
  {
   "cell_type": "markdown",
   "metadata": {
    "colab_type": "text",
    "id": "oPcdhRyJmggU"
   },
   "source": [
    "## 网络构建"
   ]
  },
  {
   "cell_type": "code",
   "execution_count": 7,
   "metadata": {
    "colab": {},
    "colab_type": "code",
    "id": "HYeTNd3Jcepb"
   },
   "outputs": [],
   "source": [
    "import numpy as np\n",
    "from keras.models import Sequential\n",
    "from keras.layers import Dense, Dropout, Activation, Flatten\n",
    "from keras.layers import Convolution2D, MaxPooling2D\n",
    "from tensorflow.keras.optimizers import Adam\n",
    "from keras.utils import np_utils\n",
    "from sklearn import metrics \n",
    "from sklearn.metrics import precision_score, recall_score, confusion_matrix, classification_report, accuracy_score, f1_score\n",
    "from keras.callbacks import LearningRateScheduler\n",
    "\n",
    "\n",
    "\n",
    "num_labels = y_en.shape[1]\n",
    "nets = 5\n",
    "\n",
    "model = [0] *nets\n",
    "\n",
    "for net in range(nets):\n",
    "    model[net] = Sequential()\n",
    "\n",
    "    model[net].add(Dense(512, input_shape=(40,)))\n",
    "    model[net].add(Activation('relu'))\n",
    "    model[net].add(Dropout(0.45))\n",
    "\n",
    "\n",
    "    model[net].add(Dense(256))\n",
    "    model[net].add(Activation('relu'))\n",
    "    model[net].add(Dropout(0.45))\n",
    "\n",
    "\n",
    "    model[net].add(Dense(num_labels))\n",
    "    model[net].add(Activation('softmax'))\n",
    "\n",
    "    model[net].compile(loss='categorical_crossentropy', metrics=['accuracy'], optimizer='RMSprop')"
   ]
  },
  {
   "cell_type": "code",
   "execution_count": 23,
   "metadata": {
    "colab": {
     "base_uri": "https://localhost:8080/",
     "height": 416
    },
    "colab_type": "code",
    "id": "z9IQhRkMmggh",
    "outputId": "4b64659d-747b-45d7-8209-384394f603a3"
   },
   "outputs": [
    {
     "name": "stdout",
     "output_type": "stream",
     "text": [
      "Model: \"sequential_4\"\n",
      "_________________________________________________________________\n",
      " Layer (type)                Output Shape              Param #   \n",
      "=================================================================\n",
      " dense_12 (Dense)            (None, 512)               20992     \n",
      "                                                                 \n",
      " activation_12 (Activation)  (None, 512)               0         \n",
      "                                                                 \n",
      " dropout_8 (Dropout)         (None, 512)               0         \n",
      "                                                                 \n",
      " dense_13 (Dense)            (None, 256)               131328    \n",
      "                                                                 \n",
      " activation_13 (Activation)  (None, 256)               0         \n",
      "                                                                 \n",
      " dropout_9 (Dropout)         (None, 256)               0         \n",
      "                                                                 \n",
      " dense_14 (Dense)            (None, 10)                2570      \n",
      "                                                                 \n",
      " activation_14 (Activation)  (None, 10)                0         \n",
      "                                                                 \n",
      "=================================================================\n",
      "Total params: 154,890\n",
      "Trainable params: 154,890\n",
      "Non-trainable params: 0\n",
      "_________________________________________________________________\n"
     ]
    }
   ],
   "source": [
    "# for i in range(0,5):\n",
    "#     model[i].summary()\n",
    "model[-1].summary()"
   ]
  },
  {
   "cell_type": "markdown",
   "metadata": {},
   "source": [
    "## 模型训练"
   ]
  },
  {
   "cell_type": "code",
   "execution_count": 9,
   "metadata": {
    "colab": {
     "base_uri": "https://localhost:8080/",
     "height": 104
    },
    "colab_type": "code",
    "id": "EixAes_Hcl-A",
    "outputId": "ae8503a2-9520-41e0-ffd2-c0b4ce49425a"
   },
   "outputs": [
    {
     "name": "stdout",
     "output_type": "stream",
     "text": [
      "CNN 1: Epochs=132, Train accuracy=0.92343, Validation accuracy=0.92099\n",
      "CNN 2: Epochs=132, Train accuracy=0.92834, Validation accuracy=0.91870\n",
      "CNN 3: Epochs=132, Train accuracy=0.92654, Validation accuracy=0.91985\n",
      "CNN 4: Epochs=132, Train accuracy=0.92687, Validation accuracy=0.91603\n",
      "CNN 5: Epochs=132, Train accuracy=0.92768, Validation accuracy=0.92252\n"
     ]
    }
   ],
   "source": [
    "history = [0] * nets\n",
    "epochs = 132\n",
    "for j in range(nets):\n",
    "    X_train2, X_val2, Y_train2, Y_val2 = X,val_x, y_en, val_y_en\n",
    "    history[j] = model[j].fit(X,Y_train2, batch_size=256,\n",
    "        epochs = epochs,   \n",
    "        validation_data = (X_val2,Y_val2),  verbose=0)\n",
    "    print(\"CNN {0:d}: Epochs={1:d}, Train accuracy={2:.5f}, Validation accuracy={3:.5f}\".format(\n",
    "        j+1,epochs,max(history[j].history['accuracy']),max(history[j].history['val_accuracy']) ))"
   ]
  },
  {
   "cell_type": "markdown",
   "metadata": {},
   "source": [
    "## 绘制损失和acc图像"
   ]
  },
  {
   "cell_type": "code",
   "execution_count": 10,
   "metadata": {
    "colab": {
     "base_uri": "https://localhost:8080/",
     "height": 718
    },
    "colab_type": "code",
    "id": "CimDBPi7Xldp",
    "outputId": "1aa74623-6c99-41f9-ec66-055abeddc5f2"
   },
   "outputs": [
    {
     "data": {
      "image/png": "[encoded data removed]",
      "text/plain": [
       "<Figure size 4608x4608 with 1 Axes>"
      ]
     },
     "metadata": {
      "needs_background": "light"
     },
     "output_type": "display_data"
    },
    {
     "data": {
      "image/png": "[encoded data removed]",
      "text/plain": [
       "<Figure size 432x288 with 1 Axes>"
      ]
     },
     "metadata": {
      "needs_background": "light"
     },
     "output_type": "display_data"
    }
   ],
   "source": [
    "net = -1\n",
    "name_title = ['Loss','Accuracy']\n",
    "fig=plt.figure(figsize=(64,64))\n",
    "for i in range(0,2):\n",
    "    ax=fig.add_subplot(8,8,i+1)\n",
    "    plt.plot(history[net].history[list(history[net].history.keys())[i]], label = list(history[net].history.keys())[i] )\n",
    "    plt.plot(history[net].history[list(history[net].history.keys())[i+2]],label = list(history[net].history.keys())[i+2] )\n",
    "    plt.xlabel('Epochs', fontsize=18)\n",
    "    plt.ylabel(name_title[i], fontsize=18)\n",
    "    plt.legend()\n",
    "    plt.show()"
   ]
  },
  {
   "cell_type": "markdown",
   "metadata": {},
   "source": [
    "## 多个CNN加和"
   ]
  },
  {
   "cell_type": "code",
   "execution_count": 21,
   "metadata": {
    "colab": {
     "base_uri": "https://localhost:8080/",
     "height": 877
    },
    "colab_type": "code",
    "id": "IzYKs0ar44vp",
    "outputId": "14e82e32-913c-4649-d3da-c09c5afc95d2"
   },
   "outputs": [
    {
     "name": "stdout",
     "output_type": "stream",
     "text": [
      "Recall: [0.97966102 0.90551181 0.92532468 0.82075472 0.94276094 0.96518987\n",
      " 0.80733945 0.98148148 0.95373665 0.89297659]\n",
      "Precision: [0.96333333 0.98290598 0.81896552 0.91258741 0.98245614 0.95611285\n",
      " 0.92631579 0.96363636 0.94699647 0.85576923]\n",
      "\n",
      " clasification report:\n",
      "               precision    recall  f1-score   support\n",
      "\n",
      "           0       0.96      0.98      0.97       295\n",
      "           1       0.98      0.91      0.94       127\n",
      "           2       0.82      0.93      0.87       308\n",
      "           3       0.91      0.82      0.86       318\n",
      "           4       0.98      0.94      0.96       297\n",
      "           5       0.96      0.97      0.96       316\n",
      "           6       0.93      0.81      0.86       109\n",
      "           7       0.96      0.98      0.97       270\n",
      "           8       0.95      0.95      0.95       281\n",
      "           9       0.86      0.89      0.87       299\n",
      "\n",
      "    accuracy                           0.92      2620\n",
      "   macro avg       0.93      0.92      0.92      2620\n",
      "weighted avg       0.93      0.92      0.92      2620\n",
      "\n",
      "\n",
      " confussion matrix:\n",
      " [[289   0   3   0   0   0   0   0   1   2]\n",
      " [  1 115   0   1   0   1   0   1   0   8]\n",
      " [  2   0 285   6   0   2   4   0   1   8]\n",
      " [  2   2  22 261   2   5   3   0   9  12]\n",
      " [  0   0   2   0 280   0   0   7   0   8]\n",
      " [  0   0   6   3   0 305   0   0   1   1]\n",
      " [  1   0  10   6   0   0  88   0   1   3]\n",
      " [  2   0   0   0   1   0   0 265   0   2]\n",
      " [  0   0   5   4   1   2   0   0 268   1]\n",
      " [  3   0  15   5   1   4   0   2   2 267]]\n"
     ]
    },
    {
     "data": {
      "image/png": "[encoded data removed]",
      "text/plain": [
       "<Figure size 432x288 with 2 Axes>"
      ]
     },
     "metadata": {
      "needs_background": "light"
     },
     "output_type": "display_data"
    }
   ],
   "source": [
    "results = np.zeros((val_x.shape[0],10)) \n",
    "for j in range(nets):\n",
    "    results = results  + model[j].predict(val_x) #加和运算\n",
    "results = np.argmax(results,axis = 1)\n",
    "val_y_n = np.argmax(val_y_en,axis = 1)\n",
    "acc(val_y_n,results)"
   ]
  },
  {
   "cell_type": "code",
   "execution_count": null,
   "metadata": {},
   "outputs": [
    {
     "data": {
      "text/plain": [
       "(2620, 10)"
      ]
     },
     "execution_count": 14,
     "metadata": {},
     "output_type": "execute_result"
    }
   ],
   "source": [
    "results.shape ## 零矩阵"
   ]
  },
  {
   "cell_type": "markdown",
   "metadata": {},
   "source": [
    "## 单个CNN"
   ]
  },
  {
   "cell_type": "code",
   "execution_count": 24,
   "metadata": {},
   "outputs": [
    {
     "name": "stdout",
     "output_type": "stream",
     "text": [
      "Recall: [0.96949153 0.91338583 0.92532468 0.84591195 0.91582492 0.96835443\n",
      " 0.80733945 0.98518519 0.95373665 0.83946488]\n",
      "Precision: [0.96621622 0.99145299 0.77868852 0.89368771 0.97142857 0.95924765\n",
      " 0.87128713 0.94661922 0.94035088 0.91605839]\n",
      "\n",
      " clasification report:\n",
      "               precision    recall  f1-score   support\n",
      "\n",
      "           0       0.97      0.97      0.97       295\n",
      "           1       0.99      0.91      0.95       127\n",
      "           2       0.78      0.93      0.85       308\n",
      "           3       0.89      0.85      0.87       318\n",
      "           4       0.97      0.92      0.94       297\n",
      "           5       0.96      0.97      0.96       316\n",
      "           6       0.87      0.81      0.84       109\n",
      "           7       0.95      0.99      0.97       270\n",
      "           8       0.94      0.95      0.95       281\n",
      "           9       0.92      0.84      0.88       299\n",
      "\n",
      "    accuracy                           0.92      2620\n",
      "   macro avg       0.92      0.91      0.92      2620\n",
      "weighted avg       0.92      0.92      0.92      2620\n",
      "\n",
      "\n",
      " confussion matrix:\n",
      " [[286   0   6   1   0   0   0   0   0   2]\n",
      " [  1 116   0   1   0   1   0   2   1   5]\n",
      " [  2   0 285   9   2   1   6   0   1   2]\n",
      " [  0   0  23 269   3   4   6   0   9   4]\n",
      " [  2   0   3   4 272   0   0   9   0   7]\n",
      " [  0   0   6   2   0 306   0   0   1   1]\n",
      " [  0   0  15   4   0   0  88   0   2   0]\n",
      " [  2   0   0   0   1   0   0 266   0   1]\n",
      " [  0   0   5   5   1   1   0   0 268   1]\n",
      " [  3   1  23   6   1   6   1   4   3 251]]\n"
     ]
    },
    {
     "data": {
      "image/png": "[encoded data removed]",
      "text/plain": [
       "<Figure size 432x288 with 2 Axes>"
      ]
     },
     "metadata": {
      "needs_background": "light"
     },
     "output_type": "display_data"
    }
   ],
   "source": [
    "results = np.zeros((val_x.shape[0],10)) \n",
    "results = results  + model[4].predict(val_x) #加和运算\n",
    "results = np.argmax(results,axis = 1)\n",
    "val_y_n = np.argmax(val_y_en,axis = 1)\n",
    "acc(val_y_n,results)"
   ]
  },
  {
   "cell_type": "code",
   "execution_count": null,
   "metadata": {},
   "outputs": [],
   "source": []
  }
 ],
 "metadata": {
  "accelerator": "GPU",
  "colab": {
   "name": "Model_MFCC.ipynb",
   "provenance": [],
   "version": "0.3.2"
  },
  "kernelspec": {
   "display_name": "Python 3 (ipykernel)",
   "language": "python",
   "name": "python3"
  },
  "language_info": {
   "codemirror_mode": {
    "name": "ipython",
    "version": 3
   },
   "file_extension": ".py",
   "mimetype": "text/x-python",
   "name": "python",
   "nbconvert_exporter": "python",
   "pygments_lexer": "ipython3",
   "version": "3.10.4"
  }
 },
 "nbformat": 4,
 "nbformat_minor": 4
}
