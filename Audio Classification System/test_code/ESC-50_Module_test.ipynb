{
 "cells": [
  {
   "cell_type": "markdown",
   "id": "610f31a9-6fd7-442e-b072-98d35dbf0e7b",
   "metadata": {},
   "source": [
    "## 引入库"
   ]
  },
  {
   "cell_type": "code",
   "execution_count": 1,
   "id": "80533678-e410-4258-b9b6-bb50fd1e481a",
   "metadata": {},
   "outputs": [],
   "source": [
    "import numpy as np\n",
    "from keras.models import load_model\n",
    "from keras import metrics\n",
    "from keras.preprocessing import imagea"
   ]
  },
  {
   "cell_type": "markdown",
   "id": "4be094fa-529c-44cc-95c2-6cb83c354c4d",
   "metadata": {},
   "source": [
    "## 载入模型"
   ]
  },
  {
   "cell_type": "code",
   "execution_count": 2,
   "id": "89b58032-cb02-4c81-be09-9a99f343dc5d",
   "metadata": {},
   "outputs": [],
   "source": [
    "def top_5_accuracy(y_true, y_pred):\n",
    "    return metrics.top_k_categorical_accuracy(y_true, y_pred, k=5)\n",
    "\n",
    "model_test = load_model('./model/ESC50_94.h5', custom_objects={'top_5_accuracy': top_5_accuracy} )"
   ]
  },
  {
   "cell_type": "markdown",
   "id": "832edcaf-c613-4c20-9891-d2264877d73a",
   "metadata": {},
   "source": [
    "## 载入图片"
   ]
  },
  {
   "cell_type": "code",
   "execution_count": 3,
   "id": "9159b4b4-f706-4223-a4e0-90b6a94bd7af",
   "metadata": {},
   "outputs": [],
   "source": [
    "img_path = './melspectrograms/4-167063-A-11.png'\n",
    "\n",
    "img = image.load_img(img_path, target_size=(224, 224))\n",
    "x = image.img_to_array(img)\n",
    "x = np.expand_dims(x, axis=0)* 1./255\n",
    "\n",
    "preds = model_test.predict(x)[0]"
   ]
  },
  {
   "cell_type": "markdown",
   "id": "3daa8efe-d0d1-415a-8d67-def8c4baafef",
   "metadata": {},
   "source": [
    "## 定义标签函数"
   ]
  },
  {
   "cell_type": "code",
   "execution_count": null,
   "id": "aa32429d-11d7-4830-9b7c-bf7bf07abd4c",
   "metadata": {},
   "outputs": [],
   "source": [
    "labels=['airplane','breathing','brushing_teeth','can_opening','car_horn','cat','chainsaw','chirping_birds','church_bells',\n",
    "        'clapping','clock_alarm','clock_tick','coughing','cow','crackling_fire','crickets','crow','crying_baby','dog',\n",
    "        'door_wood_creaks','door_wood_knock','drinking_sipping','engine','fireworks','footsteps','frog','glass_breaking',\n",
    "        'hand_saw','helicopter','hen','insects','keyboard_typing','laughing','mouse_click','pig','pouring_water','rain',\n",
    "        'rooster','sea_waves','sheep','siren','sneezing','snoring','thunderstorm','toilet_flush','train','vacuum_cleaner',\n",
    "        'washing_machine','water_drops','wind']"
   ]
  },
  {
   "cell_type": "code",
   "execution_count": 7,
   "id": "6e137d4d-17ac-4f6a-bc40-098405f81639",
   "metadata": {},
   "outputs": [],
   "source": [
    "def get_predict_label(preds):\n",
    "    max_index = np.argmax(np.array(preds))\n",
    "    result = labels[max_index]\n",
    "    return result"
   ]
  },
  {
   "cell_type": "markdown",
   "id": "7c0c57be-a74f-435f-9789-824bac362076",
   "metadata": {},
   "source": [
    "## 获取标签"
   ]
  },
  {
   "cell_type": "code",
   "execution_count": 8,
   "id": "1aca305d-6a86-428f-af73-b5df7b0e9017",
   "metadata": {},
   "outputs": [
    {
     "name": "stdout",
     "output_type": "stream",
     "text": [
      "sea_waves\n"
     ]
    }
   ],
   "source": [
    "label = get_predict_label(preds)\n",
    "print(label)"
   ]
  },
  {
   "cell_type": "code",
   "execution_count": null,
   "id": "69e6d403-1376-4b89-88fe-25551257cb0a",
   "metadata": {},
   "outputs": [],
   "source": []
  }
 ],
 "metadata": {
  "kernelspec": {
   "display_name": "Python 3 (ipykernel)",
   "language": "python",
   "name": "python3"
  },
  "language_info": {
   "codemirror_mode": {
    "name": "ipython",
    "version": 3
   },
   "file_extension": ".py",
   "mimetype": "text/x-python",
   "name": "python",
   "nbconvert_exporter": "python",
   "pygments_lexer": "ipython3",
   "version": "3.10.4"
  }
 },
 "nbformat": 4,
 "nbformat_minor": 5
}
