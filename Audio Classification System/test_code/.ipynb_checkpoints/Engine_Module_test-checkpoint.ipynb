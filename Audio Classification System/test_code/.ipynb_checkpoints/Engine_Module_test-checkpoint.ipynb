{
 "cells": [
  {
   "cell_type": "markdown",
   "id": "610f31a9-6fd7-442e-b072-98d35dbf0e7b",
   "metadata": {},
   "source": [
    "## 引入库"
   ]
  },
  {
   "cell_type": "code",
   "execution_count": 1,
   "id": "80533678-e410-4258-b9b6-bb50fd1e481a",
   "metadata": {},
   "outputs": [],
   "source": [
    "import numpy as np\n",
    "from keras.models import load_model\n",
    "from keras import metrics\n",
    "from keras.preprocessing import image"
   ]
  },
  {
   "cell_type": "markdown",
   "id": "4be094fa-529c-44cc-95c2-6cb83c354c4d",
   "metadata": {},
   "source": [
    "## 载入模型"
   ]
  },
  {
   "cell_type": "code",
   "execution_count": 7,
   "id": "89b58032-cb02-4c81-be09-9a99f343dc5d",
   "metadata": {},
   "outputs": [],
   "source": [
    "def top_5_accuracy(y_true, y_pred):\n",
    "    return metrics.top_k_categorical_accuracy(y_true, y_pred, k=5)\n",
    "\n",
    "model_test = load_model('../model/ENGINE_99.h5', custom_objects={'top_5_accuracy': top_5_accuracy} )"
   ]
  },
  {
   "cell_type": "markdown",
   "id": "832edcaf-c613-4c20-9891-d2264877d73a",
   "metadata": {},
   "source": [
    "## 载入图片"
   ]
  },
  {
   "cell_type": "code",
   "execution_count": 26,
   "id": "40fec15c-b7a6-431b-988b-2de0543eba34",
   "metadata": {},
   "outputs": [],
   "source": [
    "test = [0,1,0.2,0.3] \n",
    "test_x = np.expand_dims(test, axis=0)* 1./255 #测试看看有啥用"
   ]
  },
  {
   "cell_type": "code",
   "execution_count": 27,
   "id": "5cb1dcec-f66a-4e18-ac3f-84dd0cc3b58c",
   "metadata": {},
   "outputs": [
    {
     "data": {
      "text/plain": [
       "array([[0.        , 0.00392157, 0.00078431, 0.00117647]])"
      ]
     },
     "execution_count": 27,
     "metadata": {},
     "output_type": "execute_result"
    }
   ],
   "source": [
    "test_x"
   ]
  },
  {
   "cell_type": "code",
   "execution_count": 23,
   "id": "9159b4b4-f706-4223-a4e0-90b6a94bd7af",
   "metadata": {},
   "outputs": [],
   "source": [
    "img_path = '../melspectrograms/broken_0.png'\n",
    "\n",
    "img = image.load_img(img_path, target_size=(224, 224))\n",
    "x = image.img_to_array(img)\n",
    "x = np.expand_dims(x, axis=0)* 1./255\n",
    "\n",
    "preds = model_test.predict(x)[0]"
   ]
  },
  {
   "cell_type": "code",
   "execution_count": 25,
   "id": "32693258-9fc6-48d3-87b7-6050e9bd1e41",
   "metadata": {},
   "outputs": [
    {
     "data": {
      "text/plain": [
       "array([9.9957138e-01, 4.1564147e-04, 1.2988214e-05], dtype=float32)"
      ]
     },
     "execution_count": 25,
     "metadata": {},
     "output_type": "execute_result"
    }
   ],
   "source": [
    "preds"
   ]
  },
  {
   "cell_type": "markdown",
   "id": "3daa8efe-d0d1-415a-8d67-def8c4baafef",
   "metadata": {},
   "source": [
    "## 定义标签函数"
   ]
  },
  {
   "cell_type": "code",
   "execution_count": 5,
   "id": "6e137d4d-17ac-4f6a-bc40-098405f81639",
   "metadata": {},
   "outputs": [],
   "source": [
    "def get_predict_label(preds):\n",
    "    max_index = np.argmax(np.array(preds))\n",
    "    result = \"\"\n",
    "    if(max_index==0):\n",
    "        result = \"broken\"\n",
    "    elif(max_index==1):\n",
    "        result = \"good\"\n",
    "    else:\n",
    "        result = \"heavyload\"\n",
    "    return result"
   ]
  },
  {
   "cell_type": "markdown",
   "id": "7c0c57be-a74f-435f-9789-824bac362076",
   "metadata": {},
   "source": [
    "## 获取标签"
   ]
  },
  {
   "cell_type": "code",
   "execution_count": 6,
   "id": "1aca305d-6a86-428f-af73-b5df7b0e9017",
   "metadata": {},
   "outputs": [
    {
     "name": "stdout",
     "output_type": "stream",
     "text": [
      "broken\n"
     ]
    }
   ],
   "source": [
    "label = get_predict_label(preds)\n",
    "print(label)"
   ]
  },
  {
   "cell_type": "code",
   "execution_count": null,
   "id": "745b4078-d1ca-4665-8632-810d5622bfe9",
   "metadata": {},
   "outputs": [],
   "source": []
  }
 ],
 "metadata": {
  "kernelspec": {
   "display_name": "Python 3 (ipykernel)",
   "language": "python",
   "name": "python3"
  },
  "language_info": {
   "codemirror_mode": {
    "name": "ipython",
    "version": 3
   },
   "file_extension": ".py",
   "mimetype": "text/x-python",
   "name": "python",
   "nbconvert_exporter": "python",
   "pygments_lexer": "ipython3",
   "version": "3.10.4"
  }
 },
 "nbformat": 4,
 "nbformat_minor": 5
}
